{
  "nbformat": 4,
  "nbformat_minor": 0,
  "metadata": {
    "colab": {
      "name": "NNFL_Q10.ipynb",
      "provenance": [],
      "collapsed_sections": [
        "1knRwdnNvqCj",
        "d_DP5-ezv0FP",
        "JU7jcsa-xIRB",
        "fMNYomap2myG",
        "pnJMSX5q-YLD",
        "R19eNOyL4js-",
        "mZ4oDMk24m3_",
        "YeYtNfXc3XEC",
        "_3EuCc5T3ZCQ",
        "Xm40-JlxWyWw",
        "7eitgFeccyGy",
        "6o1wy57UsZeB",
        "lU2ECHP9XF7g",
        "lu52DitxZCxy",
        "mJGLw8OAZCx1",
        "nfJf5A0mexNj",
        "X7uVvLizfVpT",
        "p7a0cqBMq_J3",
        "kgSWwLKVjB_g",
        "k56CwJChquiu",
        "UOKYFcevkN1n",
        "GKoDUet3kYjU",
        "MNgMhw9tywrX",
        "ov0M29UWuHVg",
        "9_X2tKQhusvF",
        "0BRbnnXFogzv",
        "XumIwsW5ogzx"
      ]
    },
    "kernelspec": {
      "name": "python3",
      "display_name": "Python 3"
    },
    "language_info": {
      "name": "python"
    }
  },
  "cells": [
    {
      "cell_type": "markdown",
      "metadata": {
        "id": "1knRwdnNvqCj"
      },
      "source": [
        "# BITS F312 - Neural Network and Fuzzy Logic\n",
        "\n"
      ]
    },
    {
      "cell_type": "code",
      "metadata": {
        "id": "An8Kyfj9vmHm"
      },
      "source": [
        "# importing libraries required\n",
        "import numpy as np\n",
        "import matplotlib.pyplot as plt\n",
        "import pandas as pd\n",
        "import warnings\n",
        "warnings.filterwarnings('ignore')"
      ],
      "execution_count": null,
      "outputs": []
    },
    {
      "cell_type": "code",
      "metadata": {
        "id": "XxWR6xJxwGLv",
        "colab": {
          "base_uri": "https://localhost:8080/"
        },
        "outputId": "53f62d28-6108-4f90-f79a-0ac4f94d61e5"
      },
      "source": [
        "# connecting gdrive to access the datasets\n",
        "from google.colab import drive\n",
        "drive.mount('/content/drive')"
      ],
      "execution_count": null,
      "outputs": [
        {
          "output_type": "stream",
          "name": "stdout",
          "text": [
            "Mounted at /content/drive\n"
          ]
        }
      ]
    },
    {
      "cell_type": "code",
      "metadata": {
        "id": "YrYAx-PgwWAP",
        "colab": {
          "base_uri": "https://localhost:8080/"
        },
        "outputId": "2af0368c-ffcc-4efb-947b-2dd8c62969f6"
      },
      "source": [
        "# finding out current working directory\n",
        "!pwd"
      ],
      "execution_count": null,
      "outputs": [
        {
          "output_type": "stream",
          "name": "stdout",
          "text": [
            "/content/drive/MyDrive/NNFL/Data_A1\n"
          ]
        }
      ]
    },
    {
      "cell_type": "code",
      "metadata": {
        "id": "nE9BM4Uzw43y",
        "colab": {
          "base_uri": "https://localhost:8080/"
        },
        "outputId": "a8b8d7f1-d0a1-44ab-f41c-9780b1b54cc1"
      },
      "source": [
        "# changing directory to - 'drive/MyDrive/NNFL/Data_A1/'\n",
        "%cd drive/MyDrive/NNFL/Data_A1/"
      ],
      "execution_count": null,
      "outputs": [
        {
          "output_type": "stream",
          "name": "stdout",
          "text": [
            "/content/drive/MyDrive/NNFL/Data_A1\n"
          ]
        }
      ]
    },
    {
      "cell_type": "code",
      "metadata": {
        "id": "QwJD97di9hRq"
      },
      "source": [
        "# defining plotting style\n",
        "plt.style.use('ggplot')\n",
        "plt.rcParams[\"figure.figsize\"] = (14, 14)"
      ],
      "execution_count": null,
      "outputs": []
    },
    {
      "cell_type": "code",
      "metadata": {
        "id": "v0nD94QguBE7"
      },
      "source": [
        "def metrics(Y_true, Y_pred):\n",
        "    FP=0 # For counting the False Positives\n",
        "    FN=0 # For counting the False Negatives\n",
        "    TN=0 # For counting the True Negatives\n",
        "    TP=0 # For counting the True Positives\n",
        "\n",
        "    for i in range(len(Y_true)):\n",
        "      if Y_true[i]==1:\n",
        "        if Y_pred[i]==1:\n",
        "          TP+=1\n",
        "        else:\n",
        "          FN+=1\n",
        "      else:\n",
        "        if Y_pred[i]==0:\n",
        "          TN+=1\n",
        "        else:\n",
        "          FP+=1\n",
        "\n",
        "    print('--------------------------------------------------------------------------------')\n",
        "  \n",
        "    print(\"False Positives : \", FP)\n",
        "    print(\"False Negatives : \", FN)\n",
        "    print(\"True Negatives  : \", TN)\n",
        "    print(\"True Positives  : \", TP)\n",
        "\n",
        "    print('--------------------------------------------------------------------------------')\n",
        "\n",
        "    sens= TP/(TP+FN)\n",
        "    spes = TN/(TN+FP)\n",
        "\n",
        "    print(\"Sensitivity : \", sens)\n",
        "    print(\"Specificity : \", spes)\n",
        "    print(\"Accuracy ((TN+TP)/(TN+TP+FN+FP)) : \", ((TP+TN)/(TN+FN+TP+FP)))\n",
        "    print('--------------------------------------------------------------------------------')\n",
        "\n"
      ],
      "execution_count": null,
      "outputs": []
    },
    {
      "cell_type": "code",
      "metadata": {
        "id": "2qU_4Bg-yBHd"
      },
      "source": [
        "def normalize(data):\n",
        "  normalized_vec = data\n",
        "\n",
        "  if(len(data.shape) == 1):\n",
        "    mean = np.mean(data[:])\n",
        "    std_dev = np.std(data[:])\n",
        "    normalized_vec[:] = (normalized_vec[:] - mean)/std_dev\n",
        "  else:\n",
        "    for i in range(1,data.shape[1]):\n",
        "      mean = np.mean(data[:, i])\n",
        "      std_dev = np.std(data[:, i])\n",
        "      normalized_vec[:,i] = (normalized_vec[:,i] - mean)/std_dev\n",
        "  \n",
        "  return normalized_vec"
      ],
      "execution_count": null,
      "outputs": []
    },
    {
      "cell_type": "markdown",
      "metadata": {
        "id": "Asv3DvcPeiUo"
      },
      "source": [
        "#Q10\n",
        "Implement the Maximum likelihood (ML) decision rule for the multiclass\n",
        "classification task. Use the hold-out cross-validation approach (70% training and 30%\n",
        "testing) for the selection of training and test instances of the ML classifier. You must\n",
        "use the dataset data_q6_q7.txt for this question. Evaluate individual accuracy and\n",
        "overall accuracy of ML classifier."
      ]
    },
    {
      "cell_type": "code",
      "metadata": {
        "id": "c1pzdjK5g33p"
      },
      "source": [
        "def maximumLHood(filename):\n",
        "  df_data = pd.read_csv(filename,sep=\"\\t\", header = None, engine='python')\n",
        "  data = np.array(df_data)\n",
        "  X = data[:,:-1]\n",
        "  Y = data[:,-1]\n",
        "  Y = Y - 1\n",
        "  indices = np.array(range(0,X.shape[0]))\n",
        "  val_range = int(0.7 * X.shape[0])\n",
        "  np.random.shuffle(indices)\n",
        "  train_val = indices[ :val_range]\n",
        "  test_val = indices[val_range: ]\n",
        "  X_train, X_test = X[train_val], X[test_val]\n",
        "  Y_train, Y_test = Y[train_val], Y[test_val]\n",
        "  \n",
        "  categories = 3\n",
        "\n",
        "  Y_test = list(Y_test)\n",
        "  Y_dist_pred = [Y_test.count(y) for y in list(set(Y_test))]\n",
        "  Y_dist_correct = [0]*categories\n",
        "  mean_val = []\n",
        "  covariance_val = []\n",
        "\n",
        "  for i in range(categories):\n",
        "    temp_X = []\n",
        "    for j in range(X_train.shape[0]):\n",
        "      if (Y_train[j]==i):\n",
        "        temp_X.append(X_train[j])\n",
        "    temp_X = np.array(temp_X)\n",
        "    mean_val.append(np.mean(temp_X, axis = 0))\n",
        "    covariance_val.append(np.cov(temp_X.T))\n",
        "\n",
        "  correct = 0\n",
        "\n",
        "  for j in range(X_test.shape[0]):\n",
        "    LHood = [np.exp(-0.5*(np.transpose(X_test[j] - mean_val[i]).dot(np.linalg.inv(covariance_val[i])).dot(X_test[j] - mean_val[i]))) for i in range(categories)]\n",
        "    y_pred = LHood.index(max(LHood))\n",
        "\n",
        "    if (y_pred==Y_test[j]):\n",
        "      Y_dist_correct[y_pred] = Y_dist_correct[y_pred] + 1\n",
        "      correct = correct + 1\n",
        "\n",
        "  for i in range(categories):\n",
        "    accuracy_class = (Y_dist_correct[i]*100/Y_dist_pred[i])\n",
        "    print(\"Accuracy for class {0} : {1}%\".format(i+1, round(accuracy_class)))\n",
        "\n",
        "  print(\"Overall Accuracy for the model is {0}%\".format(round(correct*100/len(X_test))))\n"
      ],
      "execution_count": null,
      "outputs": []
    },
    {
      "cell_type": "code",
      "metadata": {
        "colab": {
          "base_uri": "https://localhost:8080/"
        },
        "id": "LutNzpnpl07n",
        "outputId": "4452de23-ad19-4d7f-e38c-5c65e03eb594"
      },
      "source": [
        "maximumLHood('data_q6_q7.txt')"
      ],
      "execution_count": null,
      "outputs": [
        {
          "output_type": "stream",
          "name": "stdout",
          "text": [
            "Accuracy for class 1 : 95%\n",
            "Accuracy for class 2 : 95%\n",
            "Accuracy for class 3 : 100%\n",
            "Overall Accuracy for the model is 97%\n"
          ]
        }
      ]
    }
  ]
}