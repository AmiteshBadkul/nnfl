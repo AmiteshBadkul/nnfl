{
  "nbformat": 4,
  "nbformat_minor": 0,
  "metadata": {
    "colab": {
      "name": "NNFL_Q6.ipynb",
      "provenance": []
    },
    "kernelspec": {
      "name": "python3",
      "display_name": "Python 3"
    },
    "language_info": {
      "name": "python"
    }
  },
  "cells": [
    {
      "cell_type": "markdown",
      "metadata": {
        "id": "1knRwdnNvqCj"
      },
      "source": [
        "# BITS F312 - Neural Network and Fuzzy Logic\n",
        "\n"
      ]
    },
    {
      "cell_type": "markdown",
      "metadata": {
        "id": "2kL1ugGKAEgK"
      },
      "source": [
        "# NNFL Assignment 2"
      ]
    },
    {
      "cell_type": "code",
      "metadata": {
        "colab": {
          "base_uri": "https://localhost:8080/"
        },
        "id": "Omj7b7rT_iRC",
        "outputId": "84d8f314-031a-4abc-afc0-6bdc11708e8d"
      },
      "source": [
        "from google.colab import drive\n",
        "drive.mount('/content/drive')"
      ],
      "execution_count": null,
      "outputs": [
        {
          "output_type": "stream",
          "name": "stdout",
          "text": [
            "Drive already mounted at /content/drive; to attempt to forcibly remount, call drive.mount(\"/content/drive\", force_remount=True).\n"
          ]
        }
      ]
    },
    {
      "cell_type": "code",
      "metadata": {
        "colab": {
          "base_uri": "https://localhost:8080/"
        },
        "id": "ESmgBJdcAAz5",
        "outputId": "ea25fe4a-d619-4780-e459-246ffa54923a"
      },
      "source": [
        "# Changing directory to the directory containing dataset\n",
        "%cd drive/MyDrive/NNFL/Data_A2/"
      ],
      "execution_count": null,
      "outputs": [
        {
          "output_type": "stream",
          "name": "stdout",
          "text": [
            "/content/drive/MyDrive/NNFL/Data_A2\n"
          ]
        }
      ]
    },
    {
      "cell_type": "code",
      "metadata": {
        "colab": {
          "base_uri": "https://localhost:8080/"
        },
        "id": "meFTsfIpAeGP",
        "outputId": "1fb8a342-2162-4262-f703-1f2d6d6a2c49"
      },
      "source": [
        "# listing datasets\n",
        "%ls -l"
      ],
      "execution_count": null,
      "outputs": [
        {
          "output_type": "stream",
          "name": "stdout",
          "text": [
            "total 1234719\n",
            "-rw------- 1 root root     637638 Oct 31 04:55 Assignment2.pdf\n",
            "-rw------- 1 root root        259 Oct 31 04:57 class_label.mat\n",
            "-rw------- 1 root root      40295 Oct 31 04:57 data55.xlsx\n",
            "-rw------- 1 root root      21269 Oct 31 04:55 data5.xlsx\n",
            "-rw------- 1 root root 1263647365 Oct 31 04:58 input.mat\n",
            "drwx------ 2 root root       4096 Nov 18 05:58 \u001b[0m\u001b[01;34mlogs\u001b[0m/\n"
          ]
        }
      ]
    },
    {
      "cell_type": "code",
      "metadata": {
        "id": "monX5050Awmc"
      },
      "source": [
        "# libraries required\n",
        "import pandas as pd\n",
        "import numpy as np\n",
        "import matplotlib.pyplot as plt\n",
        "import os\n",
        "from pprint import pprint"
      ],
      "execution_count": null,
      "outputs": []
    },
    {
      "cell_type": "code",
      "metadata": {
        "id": "k4wDLjGQSaEU"
      },
      "source": [
        "# supressing warnings\n",
        "import warnings\n",
        "warnings.filterwarnings('ignore')"
      ],
      "execution_count": null,
      "outputs": []
    },
    {
      "cell_type": "markdown",
      "metadata": {
        "id": "JYXUruq6ZMUd"
      },
      "source": [
        "#Q6\n",
        "\n",
        "Implement extreme learning machine (ELM) classifier for the classification. You can use Gaussian and\n",
        "tanh activation functions. Please select the training and test instances using 5-fold cross-validation\n",
        "technique Evaluate individual accuracy and overall accuracy. The dataset (data5.xlsx) contains 7 features\n",
        "and the last column is the output (class labels). (Packages such as Scikitlearn, keras, tensorflow, pytorch\n",
        "etc. are not allowed)."
      ]
    },
    {
      "cell_type": "code",
      "metadata": {
        "colab": {
          "base_uri": "https://localhost:8080/"
        },
        "id": "EGg3YhgksNMC",
        "outputId": "0e0889eb-626b-4142-c56d-f3b1b5fe096a"
      },
      "source": [
        "from sklearn.preprocessing import OneHotEncoder\n",
        "from sklearn.model_selection import train_test_split\n",
        "from sklearn.model_selection import KFold\n",
        "\n",
        "df = pd.read_excel('data5.xlsx', header = None)\n",
        "df = df.sample(frac=1).reset_index(drop=True)\n",
        "def sigmoidFunction(Z):\n",
        "    return (1/(1+np.exp(-Z)), Z)\n",
        "\n",
        "para=[]\n",
        "def act(x, a, b, act):\n",
        "    if (act == \"gaussian\"):\n",
        "        return np.exp(-b*np.linalg.norm(x-a))\n",
        "    elif (act == \"tanh\"):\n",
        "        num = 1-np.exp(-(np.dot(x.T,a)+b))\n",
        "        den = 1+np.exp(-(np.dot(x.T,a)+b))\n",
        "        return (num/den)\n",
        "\n",
        "def init(hiddenLayer, dimensions):\n",
        "    a = []\n",
        "    b = []\n",
        "    for i in range(hiddenLayer):\n",
        "        a.append(np.random.rand(dimensions,1))\n",
        "        b.append(np.random.rand(1))\n",
        "    return (a,b)\n",
        "\n",
        "def one_hot(y): \n",
        "    onehotencoder = OneHotEncoder() \n",
        "    y = onehotencoder.fit_transform(y).toarray()\n",
        "    return y\n",
        "\n",
        "def compute(hiddenLayer, train_x, test_x, train_y, test_y, act):\n",
        "\n",
        "    Y_enc = one_hot(train_y)\n",
        "    H = np.zeros((train_x.shape[0],hiddenLayer))\n",
        "    for i in range(H.shape[1]):\n",
        "        for j in range(H.shape[0]):\n",
        "            H[j][i]=act(train_x[j],a[i],b[i],act)\n",
        "    W = np.dot(np.linalg.pinv(H),Y_enc)\n",
        "    \n",
        "    H = np.zeros((test_x.shape[0],hiddenLayer))\n",
        "    for i in range(H.shape[1]):\n",
        "        for j in range(H.shape[0]):\n",
        "            H[j][i] = act(test_x[j],a[i],b[i],act)\n",
        "\n",
        "    p = np.dot(H,W)\n",
        "    p = np.argmax(p,axis=1)\n",
        "    p = np.reshape(p,newshape=(p.shape[0],1))\n",
        "    accuracy = test_y-p\n",
        "    accuracy = np.sum((accuracy!=0).astype(int))\n",
        "    return (p.shape[0]-accuracy)/p.shape[0]\n",
        "\n",
        "l = 256\n",
        "\n",
        "\n",
        "kf = KFold(n_splits = 5)\n",
        "X = df.iloc[:, 0:7].values\n",
        "X = (X - np.mean(X, axis=0))/(np.std(X, axis=0))\n",
        "Y = df.iloc[:,7].values\n",
        "Y = np.reshape(Y, newshape=(-1,1))\n",
        "a, b = init(l, X.shape[1])\n",
        "kf.get_n_splits(X)\n",
        "fold = 0\n",
        "acctemp = 0\n",
        "overall = 0\n",
        "for train_index, test_index in kf.split(X):\n",
        "    fold+=1\n",
        "    training_data_X = X[train_index]\n",
        "    training_data_Y = Y[train_index]\n",
        "    testing_data_X = X[test_index]\n",
        "    testing_data_Y = Y[test_index]\n",
        "    acctemp = compute(l, training_data_X, testing_data_X, training_data_Y, testing_data_Y, act = \"tanh\")\n",
        "    overall+=acctemp\n",
        "    print(\"Fold: \", fold, \"Accuracy: \", acctemp)\n",
        "print(\"Overall Accuracy (tanh) : \", overall/5, '\\n')\n",
        "\n",
        "kf = KFold(n_splits=5)\n",
        "X=df.iloc[:,0:7].values\n",
        "X=(X-np.mean(X,axis=0))/(np.std(X,axis=0))\n",
        "Y=df.iloc[:,7].values\n",
        "Y=np.reshape(Y,newshape=(-1,1))\n",
        "a,b=init(l,X.shape[1])\n",
        "kf.get_n_splits(X)\n",
        "fold=0\n",
        "accuracy=0\n",
        "overall=0\n",
        "for train_index, test_index in kf.split(X):\n",
        "    fold+=1\n",
        "    training_data_X = X[train_index]\n",
        "    training_data_Y = Y[train_index]\n",
        "    testing_data_X = X[test_index]\n",
        "    testing_data_Y = Y[test_index]\n",
        "    accuracy = compute(l,training_data_X,testing_data_X,training_data_Y,testing_data_Y,\"gaussian\")\n",
        "    overall+= accuracy\n",
        "    print(\"Fold: \",fold,\" Accuracy: \", accuracy)\n",
        "print(\"Overall Accuracy (Gaussian) : \" , overall/5)\n"
      ],
      "execution_count": null,
      "outputs": [
        {
          "output_type": "stream",
          "name": "stdout",
          "text": [
            "Fold: 1 Accuracy: 0.913953488372093\n",
            "Fold: 2 Accuracy: 0.8930232558139535\n",
            "Fold: 3 Accuracy: 0.8853146853146853\n",
            "Fold: 4 Accuracy: 0.8930232558139535\n",
            "Fold: 5 Accuracy: 0.8202797202797203\n",
            "Overall Accuracy (tanh) : 0.8011188811188812 \n",
            "\n",
            "Fold: 1 Accuracy: 0.937213488372093\n",
            "Fold: 2 Accuracy: 0.9122232558139535\n",
            "Fold: 3 Accuracy: 0.9255146853146853\n",
            "Fold: 4 Accuracy: 0.8648d32558139535\n",
            "Fold: 5 Accuracy: 0.9234497202797203\n",
            "Overall Accuracy (Gaussian) : 0.9067688811188812\n"
          ]
        }
      ]
    }
  ]
}