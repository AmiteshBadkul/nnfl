{
  "nbformat": 4,
  "nbformat_minor": 0,
  "metadata": {
    "colab": {
      "name": "NNFL_Q2.ipynb",
      "provenance": []
    },
    "kernelspec": {
      "name": "python3",
      "display_name": "Python 3"
    },
    "language_info": {
      "name": "python"
    }
  },
  "cells": [
    {
      "cell_type": "markdown",
      "metadata": {
        "id": "1knRwdnNvqCj"
      },
      "source": [
        "# BITS F312 - Neural Network and Fuzzy Logic\n",
        "\n"
      ]
    },
    {
      "cell_type": "markdown",
      "metadata": {
        "id": "d_DP5-ezv0FP"
      },
      "source": [
        "## Assignment 1"
      ]
    },
    {
      "cell_type": "code",
      "metadata": {
        "id": "An8Kyfj9vmHm"
      },
      "source": [
        "# importing libraries required\n",
        "import numpy as np\n",
        "import matplotlib.pyplot as plt\n",
        "import pandas as pd"
      ],
      "execution_count": null,
      "outputs": []
    },
    {
      "cell_type": "code",
      "metadata": {
        "id": "XxWR6xJxwGLv",
        "colab": {
          "base_uri": "https://localhost:8080/"
        },
        "outputId": "e7388866-5835-4c5e-bd48-73dab886a1ea"
      },
      "source": [
        "# connecting gdrive to access the datasets\n",
        "from google.colab import drive\n",
        "drive.mount('/content/drive')"
      ],
      "execution_count": null,
      "outputs": [
        {
          "output_type": "stream",
          "name": "stdout",
          "text": [
            "Mounted at /content/drive\n"
          ]
        }
      ]
    },
    {
      "cell_type": "code",
      "metadata": {
        "id": "YrYAx-PgwWAP",
        "colab": {
          "base_uri": "https://localhost:8080/"
        },
        "outputId": "c0a98f91-8589-4b2c-b3fc-a37a1813b478"
      },
      "source": [
        "# finding out current working directory\n",
        "!pwd"
      ],
      "execution_count": null,
      "outputs": [
        {
          "output_type": "stream",
          "name": "stdout",
          "text": [
            "/content\n"
          ]
        }
      ]
    },
    {
      "cell_type": "code",
      "metadata": {
        "id": "nE9BM4Uzw43y",
        "colab": {
          "base_uri": "https://localhost:8080/"
        },
        "outputId": "ef246682-df8e-48cb-b615-e9c0b9718abd"
      },
      "source": [
        "# changing directory to - 'drive/MyDrive/NNFL/Data_A1/'\n",
        "%cd drive/MyDrive/NNFL/Data_A1/"
      ],
      "execution_count": null,
      "outputs": [
        {
          "output_type": "stream",
          "name": "stdout",
          "text": [
            "/content/drive/MyDrive/NNFL/Data_A1\n"
          ]
        }
      ]
    },
    {
      "cell_type": "code",
      "metadata": {
        "id": "QwJD97di9hRq"
      },
      "source": [
        "# defining plotting style\n",
        "plt.style.use('ggplot')\n",
        "plt.rcParams[\"figure.figsize\"] = (14, 14)"
      ],
      "execution_count": null,
      "outputs": []
    },
    {
      "cell_type": "markdown",
      "metadata": {
        "id": "_3EuCc5T3ZCQ"
      },
      "source": [
        "### Q2\n",
        "Implement linear regression with the L2-norm regularization (Ridge regression)\n",
        "approach using BGD, SGD, and MBGD algorithms. The ridge regression model\n",
        "weight parameters must be evaluated from the training data. After evaluating the\n",
        "weight parameters, evaluate the predicted output for the parameters, evaluate the predicted output for the test feature vectors. For Q2, the data_q2_q3.xlsx file must be used. Evaluate the mean square error (MSE), mean absolute error (MAE), and correlation coefficient (CC) by comparing the actual test output and predicted test output for ridge regression models with BGD, SGD, and MBGD algorithms. You can use grid search to evaluate the optimal parameters of the model. You can divide the dataset into training, validation, and testing using hold-out cross-validation (70% (training), 10% (validation), and 20% (testing))."
      ]
    },
    {
      "cell_type": "markdown",
      "metadata": {
        "id": "Xm40-JlxWyWw"
      },
      "source": [
        "### L2-norm regularization (Ridge regression) approach using BGD"
      ]
    },
    {
      "cell_type": "code",
      "metadata": {
        "id": "yWhnzwcVbkYl"
      },
      "source": [
        "# value predicted from current weights\n",
        "def pred_BGD_L2(x, w):\n",
        "  return (np.dot(x,w))"
      ],
      "execution_count": null,
      "outputs": []
    },
    {
      "cell_type": "code",
      "metadata": {
        "id": "FDvB9VYObkYl"
      },
      "source": [
        "# cost/loss function\n",
        "def cost_BGD_L2(y, x, w):\n",
        "  pred_val = pred_BGD_L2(x,w)\n",
        "  val = np.sum((pred_val-y)**2)\n",
        "  return val/(2*(x.shape[0]))"
      ],
      "execution_count": null,
      "outputs": []
    },
    {
      "cell_type": "code",
      "metadata": {
        "id": "h52fDeH7bkYm"
      },
      "source": [
        "# weight updation \n",
        "def update_BGD_L2(x, y, w, alpha = 0.001, lambd = 0.005):\n",
        "  w = w - alpha*(np.sum((pred_BGD_L2(x,w)-y).dot(x)))/(x.shape[0]) - (alpha*lambd)*w\n",
        "  return w"
      ],
      "execution_count": null,
      "outputs": []
    },
    {
      "cell_type": "code",
      "metadata": {
        "id": "JPsT4NuFeNWw"
      },
      "source": [
        "def MSE(X, Y, W):\n",
        "  return (np.square((pred_BGD_L2(X, W) - Y))).mean() "
      ],
      "execution_count": null,
      "outputs": []
    },
    {
      "cell_type": "code",
      "metadata": {
        "id": "08KY8M3kkHEd"
      },
      "source": [
        "def MAE(X, Y, W):\n",
        "  return (np.abs((pred_BGD_L2(X, W) - Y))).mean()"
      ],
      "execution_count": null,
      "outputs": []
    },
    {
      "cell_type": "code",
      "metadata": {
        "id": "95Y27E7pkQak"
      },
      "source": [
        "def CC(X, Y, W):\n",
        "  Y_pred = pred_BGD_L2(X, W)\n",
        "  num = np.mean((Y_pred - np.mean(Y_pred))*(Y - np.mean(Y)))\n",
        "  den = np.sqrt((np.mean(np.square(Y_pred-np.mean(Y_pred))))*(np.mean(np.square(Y-np.mean(Y)))))\n",
        "  return num/den"
      ],
      "execution_count": null,
      "outputs": []
    },
    {
      "cell_type": "code",
      "metadata": {
        "id": "G5ihZLd9bkYm"
      },
      "source": [
        "# Batch Gradient Function\n",
        "def BGD_L2(filename):\n",
        "  datasetQ2 = pd.read_excel(filename) # dataset for Q2\n",
        "  # shuffling the data for performing hold-out cross-validation\n",
        "  df = datasetQ2.sample(frac=1).reset_index(drop=True)\n",
        "  df_training = df[:70]\n",
        "  df_validation = df[70:80]\n",
        "  df_testing = df[80:]\n",
        "\n",
        "  X_train = (np.array([np.ones(len(df_training)),df_training['Feat1'], df_training['Feat2'], df_training['Feat3'], df_training['Feat4']])).T # Extracting the X vector from the dataset \n",
        "  Y_train = (np.array(df_training['Output'])).T # Extracting the Y vector\n",
        "\n",
        "  X_validation = (np.array([np.ones(len(df_validation)),df_validation['Feat1'], df_validation['Feat2'], df_validation['Feat3'], df_validation['Feat4']])).T # Extracting the X vector from the dataset \n",
        "  Y_validation = (np.array(df_validation['Output'])).T # Extracting the Y vector\n",
        "\n",
        "  X_testing = (np.array([np.ones(len(df_testing)),df_testing['Feat1'], df_testing['Feat2'], df_testing['Feat3'], df_testing['Feat4']])).T # Extracting the X vector from the dataset \n",
        "  Y_testing = (np.array(df_testing['Output'])).T # Extracting the Y vector\n",
        "\n",
        "  \n",
        "  \n",
        "  # randomizing intial values of the weights\n",
        "  W = (np.random.randn((X_train.shape)[1])).T\n",
        "\n",
        "  ALPHA = 0.001 # declaring the learning rate \n",
        "\n",
        "  costs = [] # to save the cost value for each epoch\n",
        "\n",
        "  EPOCH = 500\n",
        "  for iteration in range(EPOCH):\n",
        "    costs.append(cost_BGD_L2(Y_train,X_train,W))\n",
        "    W = update_BGD_L2(X_train,Y_train,W)\n",
        "  \n",
        "  print(\"Evaluation for Training Data\")\n",
        "  print(\"----------------------------\")\n",
        "  print(\"Mean Sqaured Error (MSE): {0}\".format(MSE(X_train,Y_train,W)))\n",
        "  print(\"Mean Absolute Error (MAE): {0}\".format(MSE(X_train,Y_train,W)))\n",
        "  print(\"Correlation Coefficent (CC): {0}\".format(CC(X_train,Y_train,W)))\n",
        "\n",
        "  print(\"Evaluation for Testing Data\")\n",
        "  print(\"----------------------------\")\n",
        "  print(\"Mean Sqaured Error (MSE): {0}\".format(MSE(X_testing,Y_testing,W)))\n",
        "  print(\"Mean Absolute Error (MAE): {0}\".format(MSE(X_testing,Y_testing,W)))\n",
        "  print(\"Correlation Coefficent (CC): {0}\".format(CC(X_testing,Y_testing,W)))\n",
        "\n",
        "  print(\"Evaluation for Validation Data\")\n",
        "  print(\"----------------------------\")\n",
        "  print(\"Mean Sqaured Error (MSE): {0}\".format(MSE(X_validation,Y_validation,W)))\n",
        "  print(\"Mean Absolute Error (MAE): {0}\".format(MSE(X_validation,Y_validation,W)))\n",
        "  print(\"Correlation Coefficent (CC): {0}\".format(CC(X_validation,Y_validation,W)))\n",
        "\n",
        "  \n",
        "  # returns the log of values of the cost, and the weights for each iteration as well as the Weight Matrix\n",
        "  return costs, W "
      ],
      "execution_count": null,
      "outputs": []
    },
    {
      "cell_type": "code",
      "metadata": {
        "id": "oWXnNgInbkYm"
      },
      "source": [
        "# Plotting the Cost Function v/s Epochs\n",
        "def plot_costs_BGD_L2(costs):\n",
        "  plt.plot(costs)\n",
        "  plt.xlabel('Epochs')\n",
        "  plt.ylabel('Cost Function (Mean squared error)')\n",
        "  plt.title('Cost Function v/s Epochs (Batch Gradient Descent)')"
      ],
      "execution_count": null,
      "outputs": []
    },
    {
      "cell_type": "markdown",
      "metadata": {
        "id": "7eitgFeccyGy"
      },
      "source": [
        "### Output\n"
      ]
    },
    {
      "cell_type": "code",
      "metadata": {
        "colab": {
          "base_uri": "https://localhost:8080/"
        },
        "id": "sKF7tO1bdPTd",
        "outputId": "83b30639-5bc2-40d2-8269-702f0a717653"
      },
      "source": [
        "costs_BGD_L2, W_BGD_L2  = BGD_L2('data_q2_q3.xlsx')"
      ],
      "execution_count": null,
      "outputs": [
        {
          "output_type": "stream",
          "name": "stdout",
          "text": [
            "Evaluation for Training Data\n",
            "----------------------------\n",
            "Mean Sqaured Error (MSE): 0.20192138635585238\n",
            "Mean Absolute Error (MAE): 0.20192138635585238\n",
            "Correlation Coefficent (CC): 0.5611894427313313\n",
            "Evaluation for Testing Data\n",
            "----------------------------\n",
            "Mean Sqaured Error (MSE): 0.18557482347591567\n",
            "Mean Absolute Error (MAE): 0.18557482347591567\n",
            "Correlation Coefficent (CC): 0.5675215613739688\n",
            "Evaluation for Validation Data\n",
            "----------------------------\n",
            "Mean Sqaured Error (MSE): 0.1529151458704375\n",
            "Mean Absolute Error (MAE): 0.1529151458704375\n",
            "Correlation Coefficent (CC): 0.5456414000112311\n"
          ]
        }
      ]
    },
    {
      "cell_type": "code",
      "metadata": {
        "colab": {
          "base_uri": "https://localhost:8080/"
        },
        "id": "KFaxjuT_rtjV",
        "outputId": "089e83fd-12ae-4394-c487-0bb0d8336e27"
      },
      "source": [
        "for val in range(len(W_BGD_L2)):\n",
        "  print('W{0}: {1}'.format(val, W_BGD_L2[val]))"
      ],
      "execution_count": null,
      "outputs": [
        {
          "output_type": "stream",
          "name": "stdout",
          "text": [
            "W0: -0.6947351093996791\n",
            "W1: 1.8331885361206992\n",
            "W2: 0.21391529633810125\n",
            "W3: 0.013189872226809932\n",
            "W4: 0.46767778615396394\n"
          ]
        }
      ]
    },
    {
      "cell_type": "code",
      "metadata": {
        "colab": {
          "base_uri": "https://localhost:8080/",
          "height": 843
        },
        "id": "wuP3synSdPTe",
        "outputId": "a431f547-72e5-420d-e5c9-e0a7655aeda8"
      },
      "source": [
        "plot_costs_BGD_L2(costs_BGD_L2)"
      ],
      "execution_count": null,
      "outputs": [
        {
          "output_type": "display_data",
          "data": {
            "image/png": "[encoded data removed]",
            "text/plain": [
              "<Figure size 1008x1008 with 1 Axes>"
            ]
          },
          "metadata": {}
        }
      ]
    },
    {
      "cell_type": "markdown",
      "metadata": {
        "id": "6o1wy57UsZeB"
      },
      "source": [
        "### L2-norm regularization (Ridge regression) approach using SGD"
      ]
    },
    {
      "cell_type": "code",
      "metadata": {
        "id": "wsa-EJ4DXF7e"
      },
      "source": [
        "# value predicted from current weights\n",
        "def pred_SGD_L2(x, w):\n",
        "  return (np.dot(x,w))"
      ],
      "execution_count": null,
      "outputs": []
    },
    {
      "cell_type": "code",
      "metadata": {
        "id": "6o0SkDefXF7e"
      },
      "source": [
        "# cost/loss function\n",
        "def cost_SGD_L2(y, x, w):\n",
        "  pred_val = pred_SGD_L2(x,w)\n",
        "  val = np.sum((pred_val-y)**2)\n",
        "  return val/(2*(x.shape[0]))"
      ],
      "execution_count": null,
      "outputs": []
    },
    {
      "cell_type": "code",
      "metadata": {
        "id": "ANEfY8WtXF7f"
      },
      "source": [
        "# weight updation \n",
        "def update_SGD_L2(x, y, w, alpha = 0.001, lambd = 0.05):\n",
        "\n",
        "  idx = np.random.randint(0,x.shape[0])\n",
        "  w = w - alpha*(np.sum((pred_SGD_L2(x[idx],w)-y[idx])*(x[idx])))/(x.shape[0]) - (alpha*lambd)*w\n",
        "  return w\n"
      ],
      "execution_count": null,
      "outputs": []
    },
    {
      "cell_type": "code",
      "metadata": {
        "id": "_nfnpDKUXF7f"
      },
      "source": [
        "def MSE(X, Y, W):\n",
        "  return (np.square((pred_SGD_L2(X, W) - Y))).mean() "
      ],
      "execution_count": null,
      "outputs": []
    },
    {
      "cell_type": "code",
      "metadata": {
        "id": "QZwL3wwsXF7f"
      },
      "source": [
        "def MAE(X, Y, W):\n",
        "  return (np.abs((pred_SGD_L2(X, W) - Y))).mean()"
      ],
      "execution_count": null,
      "outputs": []
    },
    {
      "cell_type": "code",
      "metadata": {
        "id": "27v-WDhYXF7g"
      },
      "source": [
        "def CC(X, Y, W):\n",
        "  Y_pred = pred_SGD_L2(X, W)\n",
        "  num = np.mean((Y_pred - np.mean(Y_pred))*(Y - np.mean(Y)))\n",
        "  den = np.sqrt((np.mean(np.square(Y_pred-np.mean(Y_pred))))*(np.mean(np.square(Y-np.mean(Y)))))\n",
        "  return num/den"
      ],
      "execution_count": null,
      "outputs": []
    },
    {
      "cell_type": "code",
      "metadata": {
        "id": "j7NkYTv4XF7g"
      },
      "source": [
        "# Batch Gradient Function\n",
        "def SGD_L2(filename):\n",
        "  datasetQ2 = pd.read_excel(filename) # dataset for Q2\n",
        "  # shuffling the data for performing hold-out cross-validation\n",
        "  df = datasetQ2.sample(frac=1).reset_index(drop=True)\n",
        "  df_training = df[:70]\n",
        "  df_validation = df[70:80]\n",
        "  df_testing = df[80:]\n",
        "\n",
        "  X_train = (np.array([np.ones(len(df_training)),df_training['Feat1'], df_training['Feat2'], df_training['Feat3'], df_training['Feat4']])).T # Extracting the X vector from the dataset \n",
        "  Y_train = (np.array(df_training['Output'])).T # Extracting the Y vector\n",
        "\n",
        "  X_validation = (np.array([np.ones(len(df_validation)),df_validation['Feat1'], df_validation['Feat2'], df_validation['Feat3'], df_validation['Feat4']])).T # Extracting the X vector from the dataset \n",
        "  Y_validation = (np.array(df_validation['Output'])).T # Extracting the Y vector\n",
        "\n",
        "  X_testing = (np.array([np.ones(len(df_testing)),df_testing['Feat1'], df_testing['Feat2'], df_testing['Feat3'], df_testing['Feat4']])).T # Extracting the X vector from the dataset \n",
        "  Y_testing = (np.array(df_testing['Output'])).T # Extracting the Y vector\n",
        "\n",
        "  \n",
        "  \n",
        "  # randomizing intial values of the weights\n",
        "  W = (np.random.randn((X_train.shape)[1])).T\n",
        "\n",
        "  ALPHA = 0.01 # declaring the learning rate \n",
        "\n",
        "  costs = [] # to save the cost value for each epoch\n",
        "\n",
        "  EPOCH = 5000\n",
        "  for iteration in range(EPOCH):\n",
        "    costs.append(cost_SGD_L2(Y_train,X_train,W))\n",
        "    W = update_SGD_L2(X_train,Y_train,W)\n",
        "  \n",
        "  print(\"Evaluation for Training Data\")\n",
        "  print(\"----------------------------\")\n",
        "  print(\"Mean Sqaured Error (MSE): {0}\".format(MSE(X_train,Y_train,W)))\n",
        "  print(\"Mean Absolute Error (MAE): {0}\".format(MSE(X_train,Y_train,W)))\n",
        "  print(\"Correlation Coefficent (CC): {0}\".format(CC(X_train,Y_train,W)))\n",
        "\n",
        "  print(\"Evaluation for Testing Data\")\n",
        "  print(\"----------------------------\")\n",
        "  print(\"Mean Sqaured Error (MSE): {0}\".format(MSE(X_testing,Y_testing,W)))\n",
        "  print(\"Mean Absolute Error (MAE): {0}\".format(MSE(X_testing,Y_testing,W)))\n",
        "  print(\"Correlation Coefficent (CC): {0}\".format(CC(X_testing,Y_testing,W)))\n",
        "\n",
        "  print(\"Evaluation for Validation Data\")\n",
        "  print(\"----------------------------\")\n",
        "  print(\"Mean Sqaured Error (MSE): {0}\".format(MSE(X_validation,Y_validation,W)))\n",
        "  print(\"Mean Absolute Error (MAE): {0}\".format(MSE(X_validation,Y_validation,W)))\n",
        "  print(\"Correlation Coefficent (CC): {0}\".format(CC(X_validation,Y_validation,W)))\n",
        "\n",
        "  \n",
        "  # returns the log of values of the cost, and the weights for each iteration as well as the Weight Matrix\n",
        "  return costs, W "
      ],
      "execution_count": null,
      "outputs": []
    },
    {
      "cell_type": "code",
      "metadata": {
        "id": "3jEZ6ogcXF7g"
      },
      "source": [
        "# Plotting the Cost Function v/s Epochs\n",
        "def plot_costs_SGD_L2(costs):\n",
        "  plt.plot(costs)\n",
        "  plt.xlabel('Epochs')\n",
        "  plt.ylabel('Cost Function (Mean squared error)')\n",
        "  plt.title('Cost Function v/s Epochs (Stochastic Gradient Descent)')"
      ],
      "execution_count": null,
      "outputs": []
    },
    {
      "cell_type": "markdown",
      "metadata": {
        "id": "lU2ECHP9XF7g"
      },
      "source": [
        "### Output\n"
      ]
    },
    {
      "cell_type": "code",
      "metadata": {
        "colab": {
          "base_uri": "https://localhost:8080/"
        },
        "id": "G8deDYMlXF7h",
        "outputId": "1cc49bba-e1e7-4ace-b6a5-1c7f71a04ef8"
      },
      "source": [
        "costs_SGD_L2, W_SGD_L2  = SGD_L2('data_q2_q3.xlsx')"
      ],
      "execution_count": null,
      "outputs": [
        {
          "output_type": "stream",
          "name": "stdout",
          "text": [
            "Evaluation for Training Data\n",
            "----------------------------\n",
            "Mean Sqaured Error (MSE): 0.47738544318651505\n",
            "Mean Absolute Error (MAE): 0.47738544318651505\n",
            "Correlation Coefficent (CC): 0.18965118980453544\n",
            "Evaluation for Testing Data\n",
            "----------------------------\n",
            "Mean Sqaured Error (MSE): 0.3814963339365266\n",
            "Mean Absolute Error (MAE): 0.3814963339365266\n",
            "Correlation Coefficent (CC): 0.11253849363121268\n",
            "Evaluation for Validation Data\n",
            "----------------------------\n",
            "Mean Sqaured Error (MSE): 0.41319765928442154\n",
            "Mean Absolute Error (MAE): 0.41319765928442154\n",
            "Correlation Coefficent (CC): 0.25343645908091234\n"
          ]
        }
      ]
    },
    {
      "cell_type": "code",
      "metadata": {
        "colab": {
          "base_uri": "https://localhost:8080/"
        },
        "id": "lca8RRaZXF7h",
        "outputId": "408f17a0-0ffe-4589-b66e-c306abfc1fe1"
      },
      "source": [
        "for val in range(len(W- (alpha*lambd)*w_SGD_L2)):\n",
        "  print('W{0}: {1}'.format(val, W_SGD_L2[val]))"
      ],
      "execution_count": null,
      "outputs": [
        {
          "output_type": "stream",
          "name": "stdout",
          "text": [
            "W0: -1.0636894942756627\n",
            "W1: -0.8052642321817086\n",
            "W2: 0.5575902224059459\n",
            "W3: -0.19309490380388447\n",
            "W4: 0.7553184314708906\n"
          ]
        }
      ]
    },
    {
      "cell_type": "code",
      "metadata": {
        "colab": {
          "base_uri": "https://localhost:8080/",
          "height": 843
        },
        "id": "PCtVLlPYXF7h",
        "outputId": "14271deb-8781-4a2f-e745-8f13803bc3f5"
      },
      "source": [
        "plot_costs_SGD_L2(costs_SGD_L2)"
      ],
      "execution_count": null,
      "outputs": [
        {
          "output_type": "display_data",
          "data": {
            "image/png": "[encoded data removed]",
            "text/plain": [
              "<Figure size 1008x1008 with 1 Axes>"
            ]
          },
          "metadata": {}
        }
      ]
    },
    {
      "cell_type": "markdown",
      "metadata": {
        "id": "lu52DitxZCxy"
      },
      "source": [
        "### L2-norm regularization (Ridge regression) approach using MBGD"
      ]
    },
    {
      "cell_type": "code",
      "metadata": {
        "id": "xNofwmgUZCxy"
      },
      "source": [
        "# value predicted from current weights\n",
        "def pred_MBGD_L2(x, w):\n",
        "  return (np.dot(x,w))"
      ],
      "execution_count": null,
      "outputs": []
    },
    {
      "cell_type": "code",
      "metadata": {
        "id": "Yx9TbaG9ZCxz"
      },
      "source": [
        "# cost/loss function\n",
        "def cost_MBGD_L2(y, x, w):\n",
        "  pred_val = pred_MBGD_L2(x,w)\n",
        "  val = np.sum((pred_val-y)**2)\n",
        "  return val/(2*(x.shape[0]))"
      ],
      "execution_count": null,
      "outputs": []
    },
    {
      "cell_type": "code",
      "metadata": {
        "id": "9iD_6DuKZCxz"
      },
      "source": [
        "# weight updation \n",
        "def update_MBGD_L2(x, y, w, alpha = 0.001, lambd = 0.05, batch_size = 8):\n",
        "\n",
        "  idx = np.random.randint(0,x.shape[0], size=batch_size)\n",
        "  w = w - alpha*(np.sum((pred_MBGD_L2(x[idx],w)-y[idx]).dot(x[idx])))/(x.shape[0]) \n",
        "\n",
        "  return w\n"
      ],
      "execution_count": null,
      "outputs": []
    },
    {
      "cell_type": "code",
      "metadata": {
        "id": "Sok8ZHY5ZCxz"
      },
      "source": [
        "def MSE(X, Y, W):\n",
        "  return (np.square((pred_MBGD_L2(X, W) - Y))).mean() "
      ],
      "execution_count": null,
      "outputs": []
    },
    {
      "cell_type": "code",
      "metadata": {
        "id": "rQ7SkkHGZCx0"
      },
      "source": [
        "def MAE(X, Y, W):\n",
        "  return (np.abs((pred_MBGD_L2(X, W) - Y))).mean()"
      ],
      "execution_count": null,
      "outputs": []
    },
    {
      "cell_type": "code",
      "metadata": {
        "id": "uOb-S-4oZCx0"
      },
      "source": [
        "def CC(X, Y, W):\n",
        "  Y_pred = pred_MBGD_L2(X, W)\n",
        "  num = np.mean((Y_pred - np.mean(Y_pred))*(Y - np.mean(Y)))\n",
        "  den = np.sqrt((np.mean(np.square(Y_pred-np.mean(Y_pred))))*(np.mean(np.square(Y-np.mean(Y)))))\n",
        "  return num/den"
      ],
      "execution_count": null,
      "outputs": []
    },
    {
      "cell_type": "code",
      "metadata": {
        "id": "NT6dAKz5ZCx0"
      },
      "source": [
        "# Batch Gradient Function\n",
        "def MBGD_L2(filename):\n",
        "  datasetQ2 = pd.read_excel(filename) # dataset for Q2\n",
        "  # shuffling the data for performing hold-out cross-validation\n",
        "  df = datasetQ2.sample(frac=1).reset_index(drop=True)\n",
        "  df_training = df[:70]\n",
        "  df_validation = df[70:80]\n",
        "  df_testing = df[80:]\n",
        "\n",
        "  X_train = (np.array([np.ones(len(df_training)),df_training['Feat1'], df_training['Feat2'], df_training['Feat3'], df_training['Feat4']])).T # Extracting the X vector from the dataset \n",
        "  Y_train = (np.array(df_training['Output'])).T # Extracting the Y vector\n",
        "\n",
        "  X_validation = (np.array([np.ones(len(df_validation)),df_validation['Feat1'], df_validation['Feat2'], df_validation['Feat3'], df_validation['Feat4']])).T # Extracting the X vector from the dataset \n",
        "  Y_validation = (np.array(df_validation['Output'])).T # Extracting the Y vector\n",
        "\n",
        "  X_testing = (np.array([np.ones(len(df_testing)),df_testing['Feat1'], df_testing['Feat2'], df_testing['Feat3'], df_testing['Feat4']])).T # Extracting the X vector from the dataset \n",
        "  Y_testing = (np.array(df_testing['Output'])).T # Extracting the Y vector\n",
        "\n",
        "  \n",
        "  \n",
        "  # randomizing intial values of the weights\n",
        "  W = (np.random.randn((X_train.shape)[1])).T\n",
        "\n",
        "  ALPHA = 0.01 # declaring the learning rate \n",
        "\n",
        "  costs = [] # to save the cost value for each epoch\n",
        "\n",
        "  EPOCH = 5000\n",
        "  for iteration in range(EPOCH):\n",
        "    costs.append(cost_MBGD_L2(Y_train,X_train,W))\n",
        "    W = update_MBGD_L2(X_train,Y_train,W)\n",
        "  \n",
        "  print(\"Evaluation for Training Data\")\n",
        "  print(\"----------------------------\")\n",
        "  print(\"Mean Sqaured Error (MSE): {0}\".format(MSE(X_train,Y_train,W)))\n",
        "  print(\"Mean Absolute Error (MAE): {0}\".format(MSE(X_train,Y_train,W)))\n",
        "  print(\"Correlation Coefficent (CC): {0}\".format(CC(X_train,Y_train,W)))\n",
        "  print(\"----------------------------\")\n",
        "\n",
        "  print(\"Evaluation for Testing Data\")\n",
        "  print(\"----------------------------\")\n",
        "  print(\"Mean Sqaured Error (MSE): {0}\".format(MSE(X_testing,Y_testing,W)))\n",
        "  print(\"Mean Absolute Error (MAE): {0}\".format(MSE(X_testing,Y_testing,W)))\n",
        "  print(\"Correlation Coefficent (CC): {0}\".format(CC(X_testing,Y_testing,W)))\n",
        "  print(\"----------------------------\")\n",
        "\n",
        "  print(\"Evaluation for Validation Data\")\n",
        "  print(\"----------------------------\")\n",
        "  print(\"Mean Sqaured Error (MSE): {0}\".format(MSE(X_validation,Y_validation,W)))\n",
        "  print(\"Mean Absolute Error (MAE): {0}\".format(MSE(X_validation,Y_validation,W)))\n",
        "  print(\"Correlation Coefficent (CC): {0}\".format(CC(X_validation,Y_validation,W)))\n",
        "  print(\"----------------------------\")\n",
        "  \n",
        "  # returns the log of values of the cost, and the weights for each iteration as well as the Weight Matrix\n",
        "  return costs, W "
      ],
      "execution_count": null,
      "outputs": []
    },
    {
      "cell_type": "code",
      "metadata": {
        "id": "CTaZL3ipZCx1"
      },
      "source": [
        "# Plotting the Cost Function v/s Epochs\n",
        "def plot_costs_MBGD_L2(costs):\n",
        "  plt.plot(costs)\n",
        "  plt.xlabel('Epochs')\n",
        "  plt.ylabel('Cost Function (Mean squared error)')\n",
        "  plt.title('Cost Function v/s Epochs (Mini Batch Gradient Descent)')"
      ],
      "execution_count": null,
      "outputs": []
    },
    {
      "cell_type": "markdown",
      "metadata": {
        "id": "mJGLw8OAZCx1"
      },
      "source": [
        "### Output\n"
      ]
    },
    {
      "cell_type": "code",
      "metadata": {
        "colab": {
          "base_uri": "https://localhost:8080/"
        },
        "id": "DDwmKgv-ZCx2",
        "outputId": "92299829-cdce-48e4-fe8b-a3e1ac12d301"
      },
      "source": [
        "costs_MBGD_L2, W_MBGD_L2  = MBGD_L2('data_q2_q3.xlsx')"
      ],
      "execution_count": null,
      "outputs": [
        {
          "output_type": "stream",
          "name": "stdout",
          "text": [
            "Evaluation for Training Data\n",
            "----------------------------\n",
            "Mean Sqaured Error (MSE): 0.2901098650594508\n",
            "Mean Absolute Error (MAE): 0.2901098650594508\n",
            "Correlation Coefficent (CC): 0.2792600733377913\n",
            "----------------------------\n",
            "Evaluation for Testing Data\n",
            "----------------------------\n",
            "Mean Sqaured Error (MSE): 0.384614582138772\n",
            "Mean Absolute Error (MAE): 0.384614582138772\n",
            "Correlation Coefficent (CC): 0.24300610717597484\n",
            "----------------------------\n",
            "Evaluation for Validation Data\n",
            "----------------------------\n",
            "Mean Sqaured Error (MSE): 0.28289154239874487\n",
            "Mean Absolute Error (MAE): 0.28289154239874487\n",
            "Correlation Coefficent (CC): 0.11379856761954715\n",
            "----------------------------\n"
          ]
        }
      ]
    },
    {
      "cell_type": "code",
      "metadata": {
        "colab": {
          "base_uri": "https://localhost:8080/"
        },
        "id": "v4zZGioKZCx2",
        "outputId": "4b6862ef-2bd2-4cd5-e97c-f64c4b41f9f9"
      },
      "source": [
        "for val in range(len(W_MBGD_L2)):\n",
        "  print('W{0}: {1}'.format(val, W_MBGD_L2[val]))"
      ],
      "execution_count": null,
      "outputs": [
        {
          "output_type": "stream",
          "name": "stdout",
          "text": [
            "W0: -0.966042816354239\n",
            "W1: -0.25109253214975913\n",
            "W2: 0.2228338200251055\n",
            "W3: -0.046881645710288807\n",
            "W4: 0.6421310494216147\n"
          ]
        }
      ]
    },
    {
      "cell_type": "code",
      "metadata": {
        "colab": {
          "base_uri": "https://localhost:8080/",
          "height": 843
        },
        "id": "oezxS846ZCx3",
        "outputId": "cd44bde6-d22d-4087-e749-3da0d6a56bb8"
      },
      "source": [
        "plot_costs_MBGD_L2(costs_MBGD_L2)"
      ],
      "execution_count": null,
      "outputs": [
        {
          "output_type": "display_data",
          "data": {
            "image/png": "[encoded data removed]",
            "text/plain": [
              "<Figure size 1008x1008 with 1 Axes>"
            ]
          },
          "metadata": {}
        }
      ]
    }
  ]
}