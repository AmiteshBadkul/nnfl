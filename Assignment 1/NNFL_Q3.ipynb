{
  "nbformat": 4,
  "nbformat_minor": 0,
  "metadata": {
    "colab": {
      "name": "NNFL_Q3.ipynb",
      "provenance": []
    },
    "kernelspec": {
      "name": "python3",
      "display_name": "Python 3"
    },
    "language_info": {
      "name": "python"
    }
  },
  "cells": [
    {
      "cell_type": "markdown",
      "metadata": {
        "id": "1knRwdnNvqCj"
      },
      "source": [
        "# BITS F312 - Neural Network and Fuzzy Logic\n",
        "\n"
      ]
    },
    {
      "cell_type": "markdown",
      "metadata": {
        "id": "d_DP5-ezv0FP"
      },
      "source": [
        "## Assignment 1"
      ]
    },
    {
      "cell_type": "code",
      "metadata": {
        "id": "An8Kyfj9vmHm"
      },
      "source": [
        "# importing libraries required\n",
        "import numpy as np\n",
        "import matplotlib.pyplot as plt\n",
        "import pandas as pd"
      ],
      "execution_count": null,
      "outputs": []
    },
    {
      "cell_type": "code",
      "metadata": {
        "id": "XxWR6xJxwGLv",
        "colab": {
          "base_uri": "https://localhost:8080/"
        },
        "outputId": "e7388866-5835-4c5e-bd48-73dab886a1ea"
      },
      "source": [
        "# connecting gdrive to access the datasets\n",
        "from google.colab import drive\n",
        "drive.mount('/content/drive')"
      ],
      "execution_count": null,
      "outputs": [
        {
          "output_type": "stream",
          "name": "stdout",
          "text": [
            "Mounted at /content/drive\n"
          ]
        }
      ]
    },
    {
      "cell_type": "code",
      "metadata": {
        "id": "YrYAx-PgwWAP",
        "colab": {
          "base_uri": "https://localhost:8080/"
        },
        "outputId": "c0a98f91-8589-4b2c-b3fc-a37a1813b478"
      },
      "source": [
        "# finding out current working directory\n",
        "!pwd"
      ],
      "execution_count": null,
      "outputs": [
        {
          "output_type": "stream",
          "name": "stdout",
          "text": [
            "/content\n"
          ]
        }
      ]
    },
    {
      "cell_type": "code",
      "metadata": {
        "id": "nE9BM4Uzw43y",
        "colab": {
          "base_uri": "https://localhost:8080/"
        },
        "outputId": "ef246682-df8e-48cb-b615-e9c0b9718abd"
      },
      "source": [
        "# changing directory to - 'drive/MyDrive/NNFL/Data_A1/'\n",
        "%cd drive/MyDrive/NNFL/Data_A1/"
      ],
      "execution_count": null,
      "outputs": [
        {
          "output_type": "stream",
          "name": "stdout",
          "text": [
            "/content/drive/MyDrive/NNFL/Data_A1\n"
          ]
        }
      ]
    },
    {
      "cell_type": "code",
      "metadata": {
        "id": "QwJD97di9hRq"
      },
      "source": [
        "# defining plotting style\n",
        "plt.style.use('ggplot')\n",
        "plt.rcParams[\"figure.figsize\"] = (14, 14)"
      ],
      "execution_count": null,
      "outputs": []
    },
    {
      "cell_type": "markdown",
      "metadata": {
        "id": "nfJf5A0mexNj"
      },
      "source": [
        "#Q3\n",
        "Repeat question no. Q2 using least angle regression models with BGD, SGD, and\n",
        "MBGD algorithms. Evaluate MSE, MAE, and CC values for the test data. You can use\n",
        "grid search to evaluate the optimal parameters of the models. You can divide the\n",
        "dataset into training, validation, and testing using hold-out cross-validation (70% (training), 10% (validation), and 20% (testing)). For Q3, the data_q2_q3.xlsx file must be used.\n"
      ]
    },
    {
      "cell_type": "markdown",
      "metadata": {
        "id": "X7uVvLizfVpT"
      },
      "source": [
        "### L1-norm regularization (Least angle regression) approach using BGD"
      ]
    },
    {
      "cell_type": "code",
      "metadata": {
        "id": "OQiBeHGsfVpb"
      },
      "source": [
        "# value predicted from current weights\n",
        "def pred_BGD_L1(x, w):\n",
        "  return (np.dot(x,w))"
      ],
      "execution_count": null,
      "outputs": []
    },
    {
      "cell_type": "code",
      "metadata": {
        "id": "AvN-m5eKfVpc"
      },
      "source": [
        "# cost/loss function\n",
        "def cost_BGD_L1(y, x, w):\n",
        "  pred_val = pred_BGD_L1(x,w)\n",
        "  val = np.sum((pred_val-y)**2)\n",
        "  return val/(2*(x.shape[0]))"
      ],
      "execution_count": null,
      "outputs": []
    },
    {
      "cell_type": "code",
      "metadata": {
        "id": "1p6BS5lqfVpc"
      },
      "source": [
        "# weight updation \n",
        "def update_BGD_L1(x, y, w, alpha = 0.001, lambd = 0.005):\n",
        "  w = w - alpha*(np.sum((pred_BGD_L1(x,w)-y).dot(x)))/(x.shape[0]) - (alpha*lambd)*w\n",
        "  return w"
      ],
      "execution_count": null,
      "outputs": []
    },
    {
      "cell_type": "code",
      "metadata": {
        "id": "YOpcBX6ffVpc"
      },
      "source": [
        "def MSE(X, Y, W):\n",
        "  return (np.square((pred_BGD_L1(X, W) - Y))).mean() "
      ],
      "execution_count": null,
      "outputs": []
    },
    {
      "cell_type": "code",
      "metadata": {
        "id": "1rIHIqRNfVpc"
      },
      "source": [
        "def MAE(X, Y, W):\n",
        "  return (np.abs((pred_BGD_L1(X, W) - Y))).mean()"
      ],
      "execution_count": null,
      "outputs": []
    },
    {
      "cell_type": "code",
      "metadata": {
        "id": "hXvhRFebfVpc"
      },
      "source": [
        "def CC(X, Y, W):\n",
        "  Y_pred = pred_BGD_L1(X, W)\n",
        "  num = np.mean((Y_pred - np.mean(Y_pred))*(Y - np.mean(Y)))\n",
        "  den = np.sqrt((np.mean(np.square(Y_pred-np.mean(Y_pred))))*(np.mean(np.square(Y-np.mean(Y)))))\n",
        "  return num/den"
      ],
      "execution_count": null,
      "outputs": []
    },
    {
      "cell_type": "code",
      "metadata": {
        "id": "h06dD8tJfVpe"
      },
      "source": [
        "# Batch Gradient Function\n",
        "def BGD_L1(filename):\n",
        "  datasetQ2 = pd.read_excel(filename) # dataset for Q2\n",
        "  # shuffling the data for performing hold-out cross-validation\n",
        "  df = datasetQ2.sample(frac=1).reset_index(drop=True)\n",
        "  df_training = df[:70]\n",
        "  df_validation = df[70:80]\n",
        "  df_testing = df[80:]\n",
        "\n",
        "  X_train = (np.array([np.ones(len(df_training)),df_training['Feat1'], df_training['Feat2'], df_training['Feat3'], df_training['Feat4']])).T # Extracting the X vector from the dataset \n",
        "  Y_train = (np.array(df_training['Output'])).T # Extracting the Y vector\n",
        "\n",
        "  X_validation = (np.array([np.ones(len(df_validation)),df_validation['Feat1'], df_validation['Feat2'], df_validation['Feat3'], df_validation['Feat4']])).T # Extracting the X vector from the dataset \n",
        "  Y_validation = (np.array(df_validation['Output'])).T # Extracting the Y vector\n",
        "\n",
        "  X_testing = (np.array([np.ones(len(df_testing)),df_testing['Feat1'], df_testing['Feat2'], df_testing['Feat3'], df_testing['Feat4']])).T # Extracting the X vector from the dataset \n",
        "  Y_testing = (np.array(df_testing['Output'])).T # Extracting the Y vector\n",
        "\n",
        "  \n",
        "  \n",
        "  # randomizing intial values of the weights\n",
        "  W = (np.random.randn((X_train.shape)[1])).T\n",
        "\n",
        "  ALPHA = 0.001 # declaring the learning rate \n",
        "\n",
        "  costs = [] # to save the cost value for each epoch\n",
        "\n",
        "  EPOCH = 500\n",
        "  for iteration in range(EPOCH):\n",
        "    costs.append(cost_BGD_L1(Y_train,X_train,W))\n",
        "    W = update_BGD_L1(X_train,Y_train,W)\n",
        "  \n",
        "  print(\"Evaluation for Training Data\")\n",
        "  print(\"----------------------------\")\n",
        "  print(\"Mean Sqaured Error (MSE): {0}\".format(MSE(X_train,Y_train,W)))\n",
        "  print(\"Mean Absolute Error (MAE): {0}\".format(MSE(X_train,Y_train,W)))\n",
        "  print(\"Correlation Coefficent (CC): {0}\".format(CC(X_train,Y_train,W)))\n",
        "\n",
        "  print(\"Evaluation for Testing Data\")\n",
        "  print(\"----------------------------\")\n",
        "  print(\"Mean Sqaured Error (MSE): {0}\".format(MSE(X_testing,Y_testing,W)))\n",
        "  print(\"Mean Absolute Error (MAE): {0}\".format(MSE(X_testing,Y_testing,W)))\n",
        "  print(\"Correlation Coefficent (CC): {0}\".format(CC(X_testing,Y_testing,W)))\n",
        "\n",
        "  print(\"Evaluation for Validation Data\")\n",
        "  print(\"----------------------------\")\n",
        "  print(\"Mean Sqaured Error (MSE): {0}\".format(MSE(X_validation,Y_validation,W)))\n",
        "  print(\"Mean Absolute Error (MAE): {0}\".format(MSE(X_validation,Y_validation,W)))\n",
        "  print(\"Correlation Coefficent (CC): {0}\".format(CC(X_validation,Y_validation,W)))\n",
        "\n",
        "  \n",
        "  # returns the log of values of the cost, and the weights for each iteration as well as the Weight Matrix\n",
        "  return costs, W "
      ],
      "execution_count": null,
      "outputs": []
    },
    {
      "cell_type": "code",
      "metadata": {
        "id": "fR6d4LhafVpe"
      },
      "source": [
        "# Plotting the Cost Function v/s Epochs\n",
        "def plot_costs_BGD_L1(costs):\n",
        "  plt.plot(costs)\n",
        "  plt.xlabel('Epochs')\n",
        "  plt.ylabel('Cost Function (Mean squared error)')\n",
        "  plt.title('Cost Function v/s Epochs (Batch Gradient Descent - L1 Regularization) ')"
      ],
      "execution_count": null,
      "outputs": []
    },
    {
      "cell_type": "markdown",
      "metadata": {
        "id": "p7a0cqBMq_J3"
      },
      "source": [
        "## Output"
      ]
    },
    {
      "cell_type": "code",
      "metadata": {
        "colab": {
          "base_uri": "https://localhost:8080/"
        },
        "id": "8CICXrhDgJqy",
        "outputId": "90f52bc8-e0fe-44ab-b796-7d0f48faa6fc"
      },
      "source": [
        "costs_BGD_L1, W_BGD_L1  = BGD_L1('data_q2_q3.xlsx')"
      ],
      "execution_count": null,
      "outputs": [
        {
          "output_type": "stream",
          "name": "stdout",
          "text": [
            "Evaluation for Training Data\n",
            "----------------------------\n",
            "Mean Sqaured Error (MSE): 0.3537669286262443\n",
            "Mean Absolute Error (MAE): 0.3537669286262443\n",
            "Correlation Coefficent (CC): 0.015118797987014572\n",
            "Evaluation for Testing Data\n",
            "----------------------------\n",
            "Mean Sqaured Error (MSE): 0.2107765233469535\n",
            "Mean Absolute Error (MAE): 0.2107765233469535\n",
            "Correlation Coefficent (CC): 0.19315517482999103\n",
            "Evaluation for Validation Data\n",
            "----------------------------\n",
            "Mean Sqaured Error (MSE): 0.26618096262886815\n",
            "Mean Absolute Error (MAE): 0.26618096262886815\n",
            "Correlation Coefficent (CC): 0.1154819276185432\n"
          ]
        }
      ]
    },
    {
      "cell_type": "code",
      "metadata": {
        "colab": {
          "base_uri": "https://localhost:8080/"
        },
        "id": "2BR4T6QygJq6",
        "outputId": "42266d78-8a5f-4feb-d863-9ab3d92292de"
      },
      "source": [
        "for val in range(len(W_BGD_L1)):\n",
        "  print('W{0}: {1}'.format(val, W_BGD_L1[val]))"
      ],
      "execution_count": null,
      "outputs": [
        {
          "output_type": "stream",
          "name": "stdout",
          "text": [
            "W0: 0.7525779152627193\n",
            "W1: -0.7491947335594304\n",
            "W2: 0.3319576089697603\n",
            "W3: -0.04878860020465643\n",
            "W4: 0.28453118926535464\n"
          ]
        }
      ]
    },
    {
      "cell_type": "code",
      "metadata": {
        "colab": {
          "base_uri": "https://localhost:8080/",
          "height": 843
        },
        "id": "gSRmbm3fgJq6",
        "outputId": "06f8d7d4-8220-49cd-abbc-a4cc1963775f"
      },
      "source": [
        "plot_costs_BGD_L1(costs_BGD_L1)"
      ],
      "execution_count": null,
      "outputs": [
        {
          "output_type": "display_data",
          "data": {
            "image/png": "[encoded data removed]",
            "text/plain": [
              "<Figure size 1008x1008 with 1 Axes>"
            ]
          },
          "metadata": {}
        }
      ]
    },
    {
      "cell_type": "markdown",
      "metadata": {
        "id": "kgSWwLKVjB_g"
      },
      "source": [
        "### L1-norm regularization (Least angle regression) approach using SGD"
      ]
    },
    {
      "cell_type": "code",
      "metadata": {
        "id": "mfr7wRQVjYlY"
      },
      "source": [
        "# value predicted from current weights\n",
        "def pred_SGD_L1(x, w):\n",
        "  return (np.dot(x,w))"
      ],
      "execution_count": null,
      "outputs": []
    },
    {
      "cell_type": "code",
      "metadata": {
        "id": "O5rwqrKBjYlh"
      },
      "source": [
        "# cost/loss function\n",
        "def cost_SGD_L1(y, x, w):\n",
        "  pred_val = pred_SGD_L1(x,w)\n",
        "  val = np.sum((pred_val-y)**2)\n",
        "  return val/(2*(x.shape[0]))"
      ],
      "execution_count": null,
      "outputs": []
    },
    {
      "cell_type": "code",
      "metadata": {
        "id": "aQpMw22LjYli"
      },
      "source": [
        "# weight updation \n",
        "def update_SGD_L1(x, y, w, alpha = 0.001, lambd = 0.05):\n",
        "\n",
        "  idx = np.random.randint(0,x.shape[0])\n",
        "  w = w - alpha*(np.sum((pred_SGD_L1(x[idx],w)-y[idx])*(x[idx])))/(x.shape[0]) - (alpha*lambd)*w\n",
        "  return w\n"
      ],
      "execution_count": null,
      "outputs": []
    },
    {
      "cell_type": "code",
      "metadata": {
        "id": "vlfhtX1WjYli"
      },
      "source": [
        "def MSE(X, Y, W):\n",
        "  return (np.square((pred_SGD_L1(X, W) - Y))).mean() "
      ],
      "execution_count": null,
      "outputs": []
    },
    {
      "cell_type": "code",
      "metadata": {
        "id": "TLSCSRLSjYli"
      },
      "source": [
        "def MAE(X, Y, W):\n",
        "  return (np.abs((pred_SGD_L1(X, W) - Y))).mean()"
      ],
      "execution_count": null,
      "outputs": []
    },
    {
      "cell_type": "code",
      "metadata": {
        "id": "0qOR3U1HjYli"
      },
      "source": [
        "def CC(X, Y, W):\n",
        "  Y_pred = pred_SGD_L1(X, W)\n",
        "  num = np.mean((Y_pred - np.mean(Y_pred))*(Y - np.mean(Y)))\n",
        "  den = np.sqrt((np.mean(np.square(Y_pred-np.mean(Y_pred))))*(np.mean(np.square(Y-np.mean(Y)))))\n",
        "  return num/den"
      ],
      "execution_count": null,
      "outputs": []
    },
    {
      "cell_type": "code",
      "metadata": {
        "id": "p-9kv-ZdjYli"
      },
      "source": [
        "# Batch Gradient Function\n",
        "def SGD_L1(filename):\n",
        "  datasetQ2 = pd.read_excel(filename) # dataset for Q2\n",
        "  # shuffling the data for performing hold-out cross-validation\n",
        "  df = datasetQ2.sample(frac=1).reset_index(drop=True)\n",
        "  df_training = df[:70]\n",
        "  df_validation = df[70:80]\n",
        "  df_testing = df[80:]\n",
        "\n",
        "  X_train = (np.array([np.ones(len(df_training)),df_training['Feat1'], df_training['Feat2'], df_training['Feat3'], df_training['Feat4']])).T # Extracting the X vector from the dataset \n",
        "  Y_train = (np.array(df_training['Output'])).T # Extracting the Y vector\n",
        "\n",
        "  X_validation = (np.array([np.ones(len(df_validation)),df_validation['Feat1'], df_validation['Feat2'], df_validation['Feat3'], df_validation['Feat4']])).T # Extracting the X vector from the dataset \n",
        "  Y_validation = (np.array(df_validation['Output'])).T # Extracting the Y vector\n",
        "\n",
        "  X_testing = (np.array([np.ones(len(df_testing)),df_testing['Feat1'], df_testing['Feat2'], df_testing['Feat3'], df_testing['Feat4']])).T # Extracting the X vector from the dataset \n",
        "  Y_testing = (np.array(df_testing['Output'])).T # Extracting the Y vector\n",
        "\n",
        "  \n",
        "  \n",
        "  # randomizing intial values of the weights\n",
        "  W = (np.random.randn((X_train.shape)[1])).T\n",
        "\n",
        "  ALPHA = 0.01 # declaring the learning rate \n",
        "\n",
        "  costs = [] # to save the cost value for each epoch\n",
        "\n",
        "  EPOCH = 5000\n",
        "  for iteration in range(EPOCH):\n",
        "    costs.append(cost_SGD_L1(Y_train,X_train,W))\n",
        "    W = update_SGD_L1(X_train,Y_train,W)\n",
        "  \n",
        "  print(\"Evaluation for Training Data\")\n",
        "  print(\"----------------------------\")\n",
        "  print(\"Mean Sqaured Error (MSE): {0}\".format(MSE(X_train,Y_train,W)))\n",
        "  print(\"Mean Absolute Error (MAE): {0}\".format(MSE(X_train,Y_train,W)))\n",
        "  print(\"Correlation Coefficent (CC): {0}\".format(CC(X_train,Y_train,W)))\n",
        "\n",
        "  print(\"Evaluation for Testing Data\")\n",
        "  print(\"----------------------------\")\n",
        "  print(\"Mean Sqaured Error (MSE): {0}\".format(MSE(X_testing,Y_testing,W)))\n",
        "  print(\"Mean Absolute Error (MAE): {0}\".format(MSE(X_testing,Y_testing,W)))\n",
        "  print(\"Correlation Coefficent (CC): {0}\".format(CC(X_testing,Y_testing,W)))\n",
        "\n",
        "  print(\"Evaluation for Validation Data\")\n",
        "  print(\"----------------------------\")\n",
        "  print(\"Mean Sqaured Error (MSE): {0}\".format(MSE(X_validation,Y_validation,W)))\n",
        "  print(\"Mean Absolute Error (MAE): {0}\".format(MSE(X_validation,Y_validation,W)))\n",
        "  print(\"Correlation Coefficent (CC): {0}\".format(CC(X_validation,Y_validation,W)))\n",
        "\n",
        "  \n",
        "  # returns the log of values of the cost, and the weights for each iteration as well as the Weight Matrix\n",
        "  return costs, W "
      ],
      "execution_count": null,
      "outputs": []
    },
    {
      "cell_type": "code",
      "metadata": {
        "id": "Y35Phs3-jYlj"
      },
      "source": [
        "# Plotting the Cost Function v/s Epochs\n",
        "def plot_costs_SGD_L1(costs):\n",
        "  plt.plot(costs)\n",
        "  plt.xlabel('Epochs')\n",
        "  plt.ylabel('Cost Function (Mean squared error)')\n",
        "  plt.title('Cost Function v/s Epochs (Stochastic Gradient Descent)')"
      ],
      "execution_count": null,
      "outputs": []
    },
    {
      "cell_type": "markdown",
      "metadata": {
        "id": "k56CwJChquiu"
      },
      "source": [
        "## Output\n"
      ]
    },
    {
      "cell_type": "code",
      "metadata": {
        "colab": {
          "base_uri": "https://localhost:8080/"
        },
        "id": "hsAHZSW5jYlj",
        "outputId": "53cc8b9f-0a87-4da8-a14c-b2694e9f1abe"
      },
      "source": [
        "costs_SGD_L1, W_SGD_L1  = SGD_L1('data_q2_q3.xlsx')"
      ],
      "execution_count": null,
      "outputs": [
        {
          "output_type": "stream",
          "name": "stdout",
          "text": [
            "Evaluation for Training Data\n",
            "----------------------------\n",
            "Mean Sqaured Error (MSE): 0.34019834723826964\n",
            "Mean Absolute Error (MAE): 0.34019834723826964\n",
            "Correlation Coefficent (CC): 0.19239502138854445\n",
            "Evaluation for Testing Data\n",
            "----------------------------\n",
            "Mean Sqaured Error (MSE): 0.2740091968177543\n",
            "Mean Absolute Error (MAE): 0.2740091968177543\n",
            "Correlation Coefficent (CC): 0.29166664512067725\n",
            "Evaluation for Validation Data\n",
            "----------------------------\n",
            "Mean Sqaured Error (MSE): 0.45378559548979813\n",
            "Mean Absolute Error (MAE): 0.45378559548979813\n",
            "Correlation Coefficent (CC): -0.04111134971726688\n"
          ]
        }
      ]
    },
    {
      "cell_type": "code",
      "metadata": {
        "colab": {
          "base_uri": "https://localhost:8080/"
        },
        "id": "T_qegE-5jYlj",
        "outputId": "3dfb8e00-9201-4942-9082-d8371f937d2b"
      },
      "source": [
        "for val in range(len(W_SGD_L1)):\n",
        "  print('W{0}: {1}'.format(val, W_SGD_L1[val]))"
      ],
      "execution_count": null,
      "outputs": [
        {
          "output_type": "stream",
          "name": "stdout",
          "text": [
            "W0: -0.8920440451432711\n",
            "W1: -0.7366351305587308\n",
            "W2: 0.4050427002574002\n",
            "W3: 0.011962293865159273\n",
            "W4: 0.5775941249960369\n"
          ]
        }
      ]
    },
    {
      "cell_type": "code",
      "metadata": {
        "colab": {
          "base_uri": "https://localhost:8080/",
          "height": 843
        },
        "id": "WYFoj7xYjYlk",
        "outputId": "be7be35c-81a5-4824-d8f4-e8d7e4007ee5"
      },
      "source": [
        "plot_costs_SGD_L1(costs_SGD_L1)"
      ],
      "execution_count": null,
      "outputs": [
        {
          "output_type": "display_data",
          "data": {
            "image/png": "[encoded data removed]",
            "text/plain": [
              "<Figure size 1008x1008 with 1 Axes>"
            ]
          },
          "metadata": {}
        }
      ]
    },
    {
      "cell_type": "markdown",
      "metadata": {
        "id": "UOKYFcevkN1n"
      },
      "source": [
        "### L1-norm regularization (Least angle regression) approach using MBGD"
      ]
    },
    {
      "cell_type": "code",
      "metadata": {
        "id": "mPR71RaAkYjS"
      },
      "source": [
        "# value predicted from current weights\n",
        "def pred_MBGD_L1(x, w):\n",
        "  return (np.dot(x,w))"
      ],
      "execution_count": null,
      "outputs": []
    },
    {
      "cell_type": "code",
      "metadata": {
        "id": "iNTKYamekYjT"
      },
      "source": [
        "# cost/loss function\n",
        "def cost_MBGD_L1(y, x, w):\n",
        "  pred_val = pred_MBGD_L1(x,w)\n",
        "  val = np.sum((pred_val-y)**2)\n",
        "  return val/(2*(x.shape[0]))"
      ],
      "execution_count": null,
      "outputs": []
    },
    {
      "cell_type": "code",
      "metadata": {
        "id": "yRe11A9tkYjT"
      },
      "source": [
        "# weight updation \n",
        "def update_MBGD_L1(x, y, w, alpha = 0.001, lambd = 0.005, batch_size = 8):\n",
        "\n",
        "  idx = np.random.randint(0,x.shape[0], size=batch_size)\n",
        "  w = w - alpha*(np.sum((pred_MBGD_L1(x[idx],w)-y[idx]).dot(x[idx])))/(x.shape[0]) \n",
        "\n",
        "  return w\n"
      ],
      "execution_count": null,
      "outputs": []
    },
    {
      "cell_type": "code",
      "metadata": {
        "id": "m79QVyGrkYjT"
      },
      "source": [
        "def MSE(X, Y, W):\n",
        "  return (np.square((pred_MBGD_L1(X, W) - Y))).mean() "
      ],
      "execution_count": null,
      "outputs": []
    },
    {
      "cell_type": "code",
      "metadata": {
        "id": "Y1uc8PBXkYjT"
      },
      "source": [
        "def MAE(X, Y, W):\n",
        "  return (np.abs((pred_MBGD_L1(X, W) - Y))).mean()"
      ],
      "execution_count": null,
      "outputs": []
    },
    {
      "cell_type": "code",
      "metadata": {
        "id": "MapxtOpFkYjT"
      },
      "source": [
        "def CC(X, Y, W):\n",
        "  Y_pred = pred_MBGD_L1(X, W)\n",
        "  num = np.mean((Y_pred - np.mean(Y_pred))*(Y - np.mean(Y)))\n",
        "  den = np.sqrt((np.mean(np.square(Y_pred-np.mean(Y_pred))))*(np.mean(np.square(Y-np.mean(Y)))))\n",
        "  return num/den"
      ],
      "execution_count": null,
      "outputs": []
    },
    {
      "cell_type": "code",
      "metadata": {
        "id": "yzUvV9ydkYjU"
      },
      "source": [
        "# Batch Gradient Function\n",
        "def MBGD_L1(filename):\n",
        "  datasetQ2 = pd.read_excel(filename) # dataset for Q2\n",
        "  # shuffling the data for performing hold-out cross-validation\n",
        "  df = datasetQ2.sample(frac=1).reset_index(drop=True)\n",
        "  df_training = df[:70]\n",
        "  df_validation = df[70:80]\n",
        "  df_testing = df[80:]\n",
        "\n",
        "  X_train = (np.array([np.ones(len(df_training)),df_training['Feat1'], df_training['Feat2'], df_training['Feat3'], df_training['Feat4']])).T # Extracting the X vector from the dataset \n",
        "  Y_train = (np.array(df_training['Output'])).T # Extracting the Y vector\n",
        "\n",
        "  X_validation = (np.array([np.ones(len(df_validation)),df_validation['Feat1'], df_validation['Feat2'], df_validation['Feat3'], df_validation['Feat4']])).T # Extracting the X vector from the dataset \n",
        "  Y_validation = (np.array(df_validation['Output'])).T # Extracting the Y vector\n",
        "\n",
        "  X_testing = (np.array([np.ones(len(df_testing)),df_testing['Feat1'], df_testing['Feat2'], df_testing['Feat3'], df_testing['Feat4']])).T # Extracting the X vector from the dataset \n",
        "  Y_testing = (np.array(df_testing['Output'])).T # Extracting the Y vector\n",
        "\n",
        "  \n",
        "  \n",
        "  # randomizing intial values of the weights\n",
        "  W = (np.random.randn((X_train.shape)[1])).T\n",
        "\n",
        "  ALPHA = 0.01 # declaring the learning rate \n",
        "\n",
        "  costs = [] # to save the cost value for each epoch\n",
        "\n",
        "  EPOCH = 5000\n",
        "  for iteration in range(EPOCH):\n",
        "    costs.append(cost_MBGD_L1(Y_train,X_train,W))\n",
        "    W = update_MBGD_L1(X_train,Y_train,W)\n",
        "  \n",
        "  print(\"Evaluation for Training Data\")\n",
        "  print(\"----------------------------\")\n",
        "  print(\"Mean Sqaured Error (MSE): {0}\".format(MSE(X_train,Y_train,W)))\n",
        "  print(\"Mean Absolute Error (MAE): {0}\".format(MSE(X_train,Y_train,W)))\n",
        "  print(\"Correlation Coefficent (CC): {0}\".format(CC(X_train,Y_train,W)))\n",
        "  print(\"----------------------------\")\n",
        "\n",
        "  print(\"Evaluation for Testing Data\")\n",
        "  print(\"----------------------------\")\n",
        "  print(\"Mean Sqaured Error (MSE): {0}\".format(MSE(X_testing,Y_testing,W)))\n",
        "  print(\"Mean Absolute Error (MAE): {0}\".format(MSE(X_testing,Y_testing,W)))\n",
        "  print(\"Correlation Coefficent (CC): {0}\".format(CC(X_testing,Y_testing,W)))\n",
        "  print(\"----------------------------\")\n",
        "\n",
        "  print(\"Evaluation for Validation Data\")\n",
        "  print(\"----------------------------\")\n",
        "  print(\"Mean Sqaured Error (MSE): {0}\".format(MSE(X_validation,Y_validation,W)))\n",
        "  print(\"Mean Absolute Error (MAE): {0}\".format(MSE(X_validation,Y_validation,W)))\n",
        "  print(\"Correlation Coefficent (CC): {0}\".format(CC(X_validation,Y_validation,W)))\n",
        "  print(\"----------------------------\")\n",
        "  \n",
        "  # returns the log of values of the cost, and the weights for each iteration as well as the Weight Matrix\n",
        "  return costs, W "
      ],
      "execution_count": null,
      "outputs": []
    },
    {
      "cell_type": "code",
      "metadata": {
        "id": "K3QhYOrfkYjU"
      },
      "source": [
        "# Plotting the Cost Function v/s Epochs\n",
        "def plot_costs_MBGD_L1(costs):\n",
        "  plt.plot(costs)\n",
        "  plt.xlabel('Epochs')\n",
        "  plt.ylabel('Cost Function (Mean squared error)')\n",
        "  plt.title('Cost Function v/s Epochs (Mini Batch Gradient Descent)')"
      ],
      "execution_count": null,
      "outputs": []
    },
    {
      "cell_type": "markdown",
      "metadata": {
        "id": "GKoDUet3kYjU"
      },
      "source": [
        "### Output\n"
      ]
    },
    {
      "cell_type": "code",
      "metadata": {
        "colab": {
          "base_uri": "https://localhost:8080/"
        },
        "id": "52_VQZMEkYjV",
        "outputId": "08c570d3-5c20-43cb-cbb0-5563a9da48c1"
      },
      "source": [
        "costs_MBGD_L1, W_MBGD_L1  = MBGD_L1('data_q2_q3.xlsx')"
      ],
      "execution_count": null,
      "outputs": [
        {
          "output_type": "stream",
          "name": "stdout",
          "text": [
            "Evaluation for Training Data\n",
            "----------------------------\n",
            "Mean Sqaured Error (MSE): 0.2911655477508776\n",
            "Mean Absolute Error (MAE): 0.2911655477508776\n",
            "Correlation Coefficent (CC): 0.2648299229153375\n",
            "----------------------------\n",
            "Evaluation for Testing Data\n",
            "----------------------------\n",
            "Mean Sqaured Error (MSE): 0.24415825316829362\n",
            "Mean Absolute Error (MAE): 0.24415825316829362\n",
            "Correlation Coefficent (CC): 0.1824181686160726\n",
            "----------------------------\n",
            "Evaluation for Validation Data\n",
            "----------------------------\n",
            "Mean Sqaured Error (MSE): 0.17066784431375898\n",
            "Mean Absolute Error (MAE): 0.17066784431375898\n",
            "Correlation Coefficent (CC): 0.6204837203746507\n",
            "----------------------------\n"
          ]
        }
      ]
    },
    {
      "cell_type": "code",
      "metadata": {
        "colab": {
          "base_uri": "https://localhost:8080/"
        },
        "id": "tzhn82EikYjV",
        "outputId": "9855b551-73a5-4104-ded9-8e752ff81115"
      },
      "source": [
        "for val in range(len(W_MBGD_L1)):\n",
        "  print('W{0}: {1}'.format(val, W_MBGD_L1[val]))"
      ],
      "execution_count": null,
      "outputs": [
        {
          "output_type": "stream",
          "name": "stdout",
          "text": [
            "W0: 1.5174034797623035\n",
            "W1: 0.942944453089206\n",
            "W2: -0.48269422768896597\n",
            "W3: 0.12545839872101822\n",
            "W4: -0.032290855970431694\n"
          ]
        }
      ]
    },
    {
      "cell_type": "code",
      "metadata": {
        "colab": {
          "base_uri": "https://localhost:8080/",
          "height": 843
        },
        "id": "bWD-0NuZkYjV",
        "outputId": "602bd149-68ef-4c67-9a0a-d550c6ee9f37"
      },
      "source": [
        "plot_costs_MBGD_L1(costs_MBGD_L1)"
      ],
      "execution_count": null,
      "outputs": [
        {
          "output_type": "display_data",
          "data": {
            "image/png": "[encoded data removed]",
            "text/plain": [
              "<Figure size 1008x1008 with 1 Axes>"
            ]
          },
          "metadata": {}
        }
      ]
    }
  ]
}