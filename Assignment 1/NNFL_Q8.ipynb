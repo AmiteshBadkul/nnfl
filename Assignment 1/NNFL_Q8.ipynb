{
  "nbformat": 4,
  "nbformat_minor": 0,
  "metadata": {
    "colab": {
      "name": "NNFL_Q8.ipynb",
      "provenance": [],
      "collapsed_sections": [
        "1knRwdnNvqCj",
        "d_DP5-ezv0FP",
        "JU7jcsa-xIRB",
        "fMNYomap2myG",
        "pnJMSX5q-YLD",
        "R19eNOyL4js-",
        "mZ4oDMk24m3_",
        "YeYtNfXc3XEC",
        "_3EuCc5T3ZCQ",
        "Xm40-JlxWyWw",
        "7eitgFeccyGy",
        "6o1wy57UsZeB",
        "lU2ECHP9XF7g",
        "lu52DitxZCxy",
        "mJGLw8OAZCx1",
        "nfJf5A0mexNj",
        "X7uVvLizfVpT",
        "p7a0cqBMq_J3",
        "kgSWwLKVjB_g",
        "k56CwJChquiu",
        "UOKYFcevkN1n",
        "GKoDUet3kYjU",
        "MNgMhw9tywrX",
        "ov0M29UWuHVg",
        "9_X2tKQhusvF",
        "0BRbnnXFogzv",
        "XumIwsW5ogzx"
      ]
    },
    "kernelspec": {
      "name": "python3",
      "display_name": "Python 3"
    },
    "language_info": {
      "name": "python"
    }
  },
  "cells": [
    {
      "cell_type": "markdown",
      "metadata": {
        "id": "1knRwdnNvqCj"
      },
      "source": [
        "# BITS F312 - Neural Network and Fuzzy Logic\n",
        "\n"
      ]
    },
    {
      "cell_type": "code",
      "metadata": {
        "id": "An8Kyfj9vmHm"
      },
      "source": [
        "# importing libraries required\n",
        "import numpy as np\n",
        "import matplotlib.pyplot as plt\n",
        "import pandas as pd\n",
        "import warnings\n",
        "warnings.filterwarnings('ignore')"
      ],
      "execution_count": null,
      "outputs": []
    },
    {
      "cell_type": "code",
      "metadata": {
        "id": "XxWR6xJxwGLv",
        "colab": {
          "base_uri": "https://localhost:8080/"
        },
        "outputId": "53f62d28-6108-4f90-f79a-0ac4f94d61e5"
      },
      "source": [
        "# connecting gdrive to access the datasets\n",
        "from google.colab import drive\n",
        "drive.mount('/content/drive')"
      ],
      "execution_count": null,
      "outputs": [
        {
          "output_type": "stream",
          "name": "stdout",
          "text": [
            "Mounted at /content/drive\n"
          ]
        }
      ]
    },
    {
      "cell_type": "code",
      "metadata": {
        "id": "YrYAx-PgwWAP",
        "colab": {
          "base_uri": "https://localhost:8080/"
        },
        "outputId": "2af0368c-ffcc-4efb-947b-2dd8c62969f6"
      },
      "source": [
        "# finding out current working directory\n",
        "!pwd"
      ],
      "execution_count": null,
      "outputs": [
        {
          "output_type": "stream",
          "name": "stdout",
          "text": [
            "/content/drive/MyDrive/NNFL/Data_A1\n"
          ]
        }
      ]
    },
    {
      "cell_type": "code",
      "metadata": {
        "id": "nE9BM4Uzw43y",
        "colab": {
          "base_uri": "https://localhost:8080/"
        },
        "outputId": "a8b8d7f1-d0a1-44ab-f41c-9780b1b54cc1"
      },
      "source": [
        "# changing directory to - 'drive/MyDrive/NNFL/Data_A1/'\n",
        "%cd drive/MyDrive/NNFL/Data_A1/"
      ],
      "execution_count": null,
      "outputs": [
        {
          "output_type": "stream",
          "name": "stdout",
          "text": [
            "/content/drive/MyDrive/NNFL/Data_A1\n"
          ]
        }
      ]
    },
    {
      "cell_type": "code",
      "metadata": {
        "id": "QwJD97di9hRq"
      },
      "source": [
        "# defining plotting style\n",
        "plt.style.use('ggplot')\n",
        "plt.rcParams[\"figure.figsize\"] = (14, 14)"
      ],
      "execution_count": null,
      "outputs": []
    },
    {
      "cell_type": "code",
      "metadata": {
        "id": "v0nD94QguBE7"
      },
      "source": [
        "def metrics(Y_true, Y_pred):\n",
        "    FP=0 # For counting the False Positives\n",
        "    FN=0 # For counting the False Negatives\n",
        "    TN=0 # For counting the True Negatives\n",
        "    TP=0 # For counting the True Positives\n",
        "\n",
        "    for i in range(len(Y_true)):\n",
        "      if Y_true[i]==1:\n",
        "        if Y_pred[i]==1:\n",
        "          TP+=1\n",
        "        else:\n",
        "          FN+=1\n",
        "      else:\n",
        "        if Y_pred[i]==0:\n",
        "          TN+=1\n",
        "        else:\n",
        "          FP+=1\n",
        "\n",
        "    print('--------------------------------------------------------------------------------')\n",
        "  \n",
        "    print(\"False Positives : \", FP)\n",
        "    print(\"False Negatives : \", FN)\n",
        "    print(\"True Negatives  : \", TN)\n",
        "    print(\"True Positives  : \", TP)\n",
        "\n",
        "    print('--------------------------------------------------------------------------------')\n",
        "\n",
        "    sens= TP/(TP+FN)\n",
        "    spes = TN/(TN+FP)\n",
        "\n",
        "    print(\"Sensitivity : \", sens)\n",
        "    print(\"Specificity : \", spes)\n",
        "    print(\"Accuracy ((TN+TP)/(TN+TP+FN+FP)) : \", ((TP+TN)/(TN+FN+TP+FP)))\n",
        "    print('--------------------------------------------------------------------------------')\n",
        "\n"
      ],
      "execution_count": null,
      "outputs": []
    },
    {
      "cell_type": "code",
      "metadata": {
        "id": "2qU_4Bg-yBHd"
      },
      "source": [
        "def normalize(data):\n",
        "  normalized_vec = data\n",
        "\n",
        "  if(len(data.shape) == 1):\n",
        "    mean = np.mean(data[:])\n",
        "    std_dev = np.std(data[:])\n",
        "    normalized_vec[:] = (normalized_vec[:] - mean)/std_dev\n",
        "  else:\n",
        "    for i in range(1,data.shape[1]):\n",
        "      mean = np.mean(data[:, i])\n",
        "      std_dev = np.std(data[:, i])\n",
        "      normalized_vec[:,i] = (normalized_vec[:,i] - mean)/std_dev\n",
        "  \n",
        "  return normalized_vec"
      ],
      "execution_count": null,
      "outputs": []
    },
    {
      "cell_type": "markdown",
      "metadata": {
        "id": "CExMZhREnTp_"
      },
      "source": [
        "#Q8\n",
        "Use the likelihood ratio test (LRT) for the binary classification using the dataset\n",
        "(“data_q4_q5.xlsx”). You must use a 5-fold CV-based selection of training and test\n",
        "instances to evaluate the LRT classifier. Evaluate the accuracy, sensitivity, and\n",
        "specificity values for the binary classifier."
      ]
    },
    {
      "cell_type": "code",
      "metadata": {
        "id": "j1stRJURhMLo"
      },
      "source": [
        "def fiveCVLRT(filename):\n",
        "  # obtaining the data from the file\n",
        "  df = pd.read_excel(filename)\n",
        "  df = df.sample(frac=1).reset_index(drop=True)\n",
        "  #df.insert(0, 'ones', 1)\n",
        "\n",
        "  # encoding the data\n",
        "  for i in range(len(df)):\n",
        "    if(df['diagnosis'][i] == 'B'):\n",
        "      df['diagnosis'][i] = 0\n",
        "    elif(df['diagnosis'][i] == 'M'):\n",
        "      df['diagnosis'][i] = 1\n",
        "\n",
        "\n",
        "  fold_length = int((df.shape[0])/5)\n",
        "\n",
        "  # preparing the data for 5 fold CV\n",
        "  cv_val = 5\n",
        "\n",
        "  cv_lists = [[] for i in range(0, cv_val)]\n",
        "  fold_np = [[] for i in range(0, cv_val)]\n",
        "  \n",
        "  for i in range(cv_val):\n",
        "    cv_lists[i] = df[i*fold_length:(i+1)*fold_length]\n",
        "    fold_np[i] = cv_lists[i].to_numpy()\n",
        "\n",
        "  for iteration in range(cv_val):\n",
        "    test_data = None\n",
        "    train_data = None\n",
        "    train_list  = []\n",
        "    for j in range(cv_val):\n",
        "      if(i==j):\n",
        "        test_data = fold_np[iteration]\n",
        "      else:\n",
        "        train_list.append(cv_lists[iteration])\n",
        "\n",
        "    train_data = np.vstack(train_list)\n",
        "\n",
        "    print('Fold: ', iteration)\n",
        "    print('--------------------------------------------------------------------------------')\n",
        "    # normalizing data\n",
        "    XVec_train = normalize(train_data[:, :(train_data.shape[1]-1)])\n",
        "    YVec_train = train_data[:,train_data.shape[1]-1]\n",
        "\n",
        "    XVec_test = normalize(test_data[:, :(test_data.shape[1]-1)])\n",
        "    YVec_test = test_data[:,test_data.shape[1]-1]\n",
        "    LRT(XVec_train, YVec_train, XVec_test, YVec_test)\n",
        "    print('--------------------------------------------------------------------------------')\n"
      ],
      "execution_count": null,
      "outputs": []
    },
    {
      "cell_type": "code",
      "metadata": {
        "id": "j_Ud0UxkFtCa"
      },
      "source": [
        "def LRT(XVec_train, YVec_train, XVec_test, YVec_test):\n",
        "  YVec_train = list(YVec_train)\n",
        "  Y_prob = [YVec_train.count(y)/len(YVec_train) for y in list(set(YVec_train))]\n",
        "\n",
        "  mean_val = []\n",
        "  covariance_val = []\n",
        "\n",
        "  for i in range(2):\n",
        "    temp_X = []\n",
        "\n",
        "    for j in range(XVec_train.shape[0]):\n",
        "      if (YVec_train[j] == i):\n",
        "        temp_X.append(XVec_train[j])\n",
        "\n",
        "    temp_X = np.array(temp_X)\n",
        "    mean_val.append(np.mean(temp_X, axis=0))\n",
        "    covariance_val.append(np.cov((temp_X.T).astype(float)))\n",
        "\n",
        "\n",
        "  FP=0\n",
        "  FN=0\n",
        "  TP=0\n",
        "  TN=0\n",
        "\n",
        "  for j in range(XVec_test.shape[0]):\n",
        "    LH_val = [ Y_prob[i]*np.exp(-0.5*(np.transpose(XVec_test[j] - mean_val[i]).dot(np.linalg.inv(covariance_val[i])).dot(XVec_test[j] - mean_val[i]))) for i in range(2) ]\n",
        "    \n",
        "    Y_pred = LH_val.index(max(LH_val))\n",
        "\n",
        "    if (YVec_test[j] == 1):\n",
        "      if (Y_pred == 1):\n",
        "        TP+=1\n",
        "      else:\n",
        "        FN+=1\n",
        "    else:\n",
        "      if Y_pred==0:\n",
        "        TN+=1\n",
        "      else:\n",
        "        FP+=1\n",
        "\n",
        "  sens = TP/(TP+FN)\n",
        "  specs = TN/(TN+FP)\n",
        "  accuracy = (TP+TN)/(TP+TN+FP+FN)\n",
        "  \n",
        "  print(\"Metrics: \")\n",
        "  print('--------------------------------------------------------------------------------')\n",
        "  print(\"True Positives: \", TP)\n",
        "  print(\"False Positives: \", FP)\n",
        "  print(\"True Negatives: \", TN)\n",
        "  print(\"False Negatives: \", FN)\n",
        "  print(\"Sensitivity: \", sens)\n",
        "  print(\"Specificity: \", specs)\n",
        "  print(\"Accuracy: \", accuracy)\n",
        "  print('--------------------------------------------------------------------------------')\n",
        "\n",
        "  FP=0\n",
        "  FN=0\n",
        "  TP=0\n",
        "  TN=0"
      ],
      "execution_count": null,
      "outputs": []
    },
    {
      "cell_type": "code",
      "metadata": {
        "colab": {
          "base_uri": "https://localhost:8080/"
        },
        "id": "pa8eOYZDMCa4",
        "outputId": "d54703b5-bd22-4a65-ec05-90778919ec61"
      },
      "source": [
        "fiveCVLRT('data_q4_q5.xlsx')"
      ],
      "execution_count": null,
      "outputs": [
        {
          "output_type": "stream",
          "name": "stdout",
          "text": [
            "Fold:  0\n",
            "--------------------------------------------------------------------------------\n",
            "Metrics: \n",
            "--------------------------------------------------------------------------------\n",
            "True Positives:  41\n",
            "False Positives:  2\n",
            "True Negatives:  70\n",
            "False Negatives:  0\n",
            "Sensitivity:  1.0\n",
            "Specificity:  0.9722222222222222\n",
            "Accuracy:  0.9823008849557522\n",
            "--------------------------------------------------------------------------------\n",
            "--------------------------------------------------------------------------------\n",
            "Fold:  1\n",
            "--------------------------------------------------------------------------------\n",
            "Metrics: \n",
            "--------------------------------------------------------------------------------\n",
            "True Positives:  53\n",
            "False Positives:  0\n",
            "True Negatives:  60\n",
            "False Negatives:  0\n",
            "Sensitivity:  1.0\n",
            "Specificity:  1.0\n",
            "Accuracy:  1.0\n",
            "--------------------------------------------------------------------------------\n",
            "--------------------------------------------------------------------------------\n",
            "Fold:  2\n",
            "--------------------------------------------------------------------------------\n",
            "Metrics: \n",
            "--------------------------------------------------------------------------------\n",
            "True Positives:  39\n",
            "False Positives:  0\n",
            "True Negatives:  74\n",
            "False Negatives:  0\n",
            "Sensitivity:  1.0\n",
            "Specificity:  1.0\n",
            "Accuracy:  1.0\n",
            "--------------------------------------------------------------------------------\n",
            "--------------------------------------------------------------------------------\n",
            "Fold:  3\n",
            "--------------------------------------------------------------------------------\n",
            "Metrics: \n",
            "--------------------------------------------------------------------------------\n",
            "True Positives:  35\n",
            "False Positives:  0\n",
            "True Negatives:  78\n",
            "False Negatives:  0\n",
            "Sensitivity:  1.0\n",
            "Specificity:  1.0\n",
            "Accuracy:  1.0\n",
            "--------------------------------------------------------------------------------\n",
            "--------------------------------------------------------------------------------\n",
            "Fold:  4\n",
            "--------------------------------------------------------------------------------\n",
            "Metrics: \n",
            "--------------------------------------------------------------------------------\n",
            "True Positives:  42\n",
            "False Positives:  2\n",
            "True Negatives:  69\n",
            "False Negatives:  0\n",
            "Sensitivity:  1.0\n",
            "Specificity:  0.971830985915493\n",
            "Accuracy:  0.9823008849557522\n",
            "--------------------------------------------------------------------------------\n",
            "--------------------------------------------------------------------------------\n"
          ]
        }
      ]
    }
  ]
}